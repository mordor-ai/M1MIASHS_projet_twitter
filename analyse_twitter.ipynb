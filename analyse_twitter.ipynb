{
  "nbformat": 4,
  "nbformat_minor": 0,
  "metadata": {
    "colab": {
      "name": "analyse_twitter.ipynb",
      "provenance": [],
      "collapsed_sections": [],
      "authorship_tag": "ABX9TyODORBLC8xbHewTwu4A2Wuv",
      "include_colab_link": true
    },
    "kernelspec": {
      "name": "python3",
      "display_name": "Python 3"
    }
  },
  "cells": [
    {
      "cell_type": "markdown",
      "metadata": {
        "id": "view-in-github",
        "colab_type": "text"
      },
      "source": [
        "<a href=\"https://colab.research.google.com/github/mordor-ai/M1MIASHS_projet_twitter/blob/master/analyse_twitter.ipynb\" target=\"_parent\"><img src=\"https://colab.research.google.com/assets/colab-badge.svg\" alt=\"Open In Colab\"/></a>"
      ]
    },
    {
      "cell_type": "markdown",
      "metadata": {
        "id": "f9LzQtU2kgW1",
        "colab_type": "text"
      },
      "source": [
        "# Projet analyse d'un réseau Twitter\n",
        "\n",
        "Master M1 MIASHS\n",
        "\n",
        "V2EMI5 - Analyse de réseaux sociaux\n",
        "\n",
        "(c) Emmanuel Pellegrin"
      ]
    },
    {
      "cell_type": "code",
      "metadata": {
        "id": "TKUT2gAmirTf",
        "colab_type": "code",
        "colab": {}
      },
      "source": [
        "#projet reseaux sociaux\n",
        "# analyse du reseau twitter\n",
        "# Emmanuel Pellegrin \n",
        "# copyrights 2020\n",
        "import numpy as np\n",
        "import pandas as pd\n"
      ],
      "execution_count": 0,
      "outputs": []
    },
    {
      "cell_type": "code",
      "metadata": {
        "id": "kZ_Qxp3Hk5UQ",
        "colab_type": "code",
        "colab": {}
      },
      "source": [
        ""
      ],
      "execution_count": 0,
      "outputs": []
    }
  ]
}