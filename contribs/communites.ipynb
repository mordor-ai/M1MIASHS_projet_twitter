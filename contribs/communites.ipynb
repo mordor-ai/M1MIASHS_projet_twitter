{
 "cells": [
  {
   "cell_type": "code",
   "execution_count": 3,
   "metadata": {},
   "outputs": [],
   "source": [
    "from igraph import *\n",
    "import numpy as np\n",
    "\n",
    "# Create the graph\n",
    "vertices = [i for i in range(7)]\n",
    "edges = [(0,2),(0,1),(0,3),(1,0),(1,2),(1,3),(2,0),(2,1),(2,3),(3,0),(3,1),(3,2),(2,4),(4,5),(4,6),(5,4),(5,6),(6,4),(6,5)]\n",
    "\n",
    "g = Graph(vertex_attrs={\"label\":vertices}, edges=edges, directed=True)\n",
    "\n",
    "visual_style = {}\n",
    "\n",
    "# Scale vertices based on degree\n",
    "outdegree = g.outdegree()\n",
    "visual_style[\"vertex_size\"] = [x/max(outdegree)*25+50 for x in outdegree]\n",
    "\n",
    "# Set bbox and margin\n",
    "visual_style[\"bbox\"] = (800,800)\n",
    "visual_style[\"margin\"] = 100\n",
    "\n",
    "# Define colors used for outdegree visualization\n",
    "colours = ['#fecc5c', '#a31a1c']\n",
    "\n",
    "# Order vertices in bins based on outdegree\n",
    "bins = np.linspace(0, max(outdegree), len(colours))  \n",
    "digitized_degrees =  np.digitize(outdegree, bins)\n",
    "\n",
    "# Set colors according to bins\n",
    "g.vs[\"color\"] = [colours[x-1] for x in digitized_degrees]\n",
    "\n",
    "# Also color the edges\n",
    "for ind, color in enumerate(g.vs[\"color\"]):\n",
    "        edges = g.es.select(_source=ind)\n",
    "        edges[\"color\"] = [color]\n",
    "        \n",
    "# Don't curve the edges\n",
    "visual_style[\"edge_curved\"] = False\n",
    "\n"
   ]
  },
  {
   "cell_type": "code",
   "execution_count": null,
   "metadata": {},
   "outputs": [],
   "source": [
    "igraph.vers"
   ]
  },
  {
   "cell_type": "code",
   "execution_count": 5,
   "metadata": {},
   "outputs": [
    {
     "ename": "InternalError",
     "evalue": "Error at /private/tmp/pip-req-build-26_qaoq3/vendor/source/igraph/src/community.c:920: modularity is implemented for undirected graphs, Invalid value",
     "output_type": "error",
     "traceback": [
      "\u001b[0;31m---------------------------------------------------------------------------\u001b[0m",
      "\u001b[0;31mInternalError\u001b[0m                             Traceback (most recent call last)",
      "\u001b[0;32m<ipython-input-5-6e4b0edb76df>\u001b[0m in \u001b[0;36m<module>\u001b[0;34m\u001b[0m\n\u001b[1;32m      1\u001b[0m \u001b[0;31m# Community detection\u001b[0m\u001b[0;34m\u001b[0m\u001b[0;34m\u001b[0m\u001b[0;34m\u001b[0m\u001b[0m\n\u001b[0;32m----> 2\u001b[0;31m \u001b[0mcommunities\u001b[0m \u001b[0;34m=\u001b[0m \u001b[0mg\u001b[0m\u001b[0;34m.\u001b[0m\u001b[0mcommunity_edge_betweenness\u001b[0m\u001b[0;34m(\u001b[0m\u001b[0;34m)\u001b[0m\u001b[0;34m\u001b[0m\u001b[0;34m\u001b[0m\u001b[0m\n\u001b[0m\u001b[1;32m      3\u001b[0m \u001b[0;31m#(directed=True)\u001b[0m\u001b[0;34m\u001b[0m\u001b[0;34m\u001b[0m\u001b[0;34m\u001b[0m\u001b[0m\n",
      "\u001b[0;32m~/.conda/envs/M1MIASHS_projet_twitter/lib/python3.8/site-packages/igraph/__init__.py\u001b[0m in \u001b[0;36mcommunity_edge_betweenness\u001b[0;34m(self, clusters, directed, weights)\u001b[0m\n\u001b[1;32m   1287\u001b[0m           \u001b[0mmodularity\u001b[0m \u001b[0;32mor\u001b[0m \u001b[0mat\u001b[0m \u001b[0mthe\u001b[0m \u001b[0mdesired\u001b[0m \u001b[0mnumber\u001b[0m \u001b[0mof\u001b[0m \u001b[0mclusters\u001b[0m\u001b[0;34m.\u001b[0m\u001b[0;34m\u001b[0m\u001b[0;34m\u001b[0m\u001b[0m\n\u001b[1;32m   1288\u001b[0m         \"\"\"\n\u001b[0;32m-> 1289\u001b[0;31m         \u001b[0mmerges\u001b[0m\u001b[0;34m,\u001b[0m \u001b[0mqs\u001b[0m \u001b[0;34m=\u001b[0m \u001b[0mGraphBase\u001b[0m\u001b[0;34m.\u001b[0m\u001b[0mcommunity_edge_betweenness\u001b[0m\u001b[0;34m(\u001b[0m\u001b[0mself\u001b[0m\u001b[0;34m,\u001b[0m \u001b[0mdirected\u001b[0m\u001b[0;34m,\u001b[0m \u001b[0mweights\u001b[0m\u001b[0;34m)\u001b[0m\u001b[0;34m\u001b[0m\u001b[0;34m\u001b[0m\u001b[0m\n\u001b[0m\u001b[1;32m   1290\u001b[0m         \u001b[0;32mif\u001b[0m \u001b[0mqs\u001b[0m \u001b[0;32mis\u001b[0m \u001b[0;32mnot\u001b[0m \u001b[0;32mNone\u001b[0m\u001b[0;34m:\u001b[0m\u001b[0;34m\u001b[0m\u001b[0;34m\u001b[0m\u001b[0m\n\u001b[1;32m   1291\u001b[0m             \u001b[0mqs\u001b[0m\u001b[0;34m.\u001b[0m\u001b[0mreverse\u001b[0m\u001b[0;34m(\u001b[0m\u001b[0;34m)\u001b[0m\u001b[0;34m\u001b[0m\u001b[0;34m\u001b[0m\u001b[0m\n",
      "\u001b[0;31mInternalError\u001b[0m: Error at /private/tmp/pip-req-build-26_qaoq3/vendor/source/igraph/src/community.c:920: modularity is implemented for undirected graphs, Invalid value"
     ]
    }
   ],
   "source": [
    "# Community detection\n",
    "communities = g.community_edge_betweenness()\n",
    "#(directed=True)\n"
   ]
  },
  {
   "cell_type": "code",
   "execution_count": null,
   "metadata": {},
   "outputs": [],
   "source": [
    "clusters = communities.as_clustering()\n",
    "\n",
    "# Set edge weights based on communities\n",
    "weights = {v: len(c) for c in clusters for v in c}\n",
    "g.es[\"weight\"] = [weights[e.tuple[0]] + weights[e.tuple[1]] for e in g.es]\n",
    "\n",
    "# Choose the layout\n",
    "N = len(vertices)\n",
    "visual_style[\"layout\"] = g.layout_fruchterman_reingold(weights=g.es[\"weight\"], maxiter=1000, area=N**3, repulserad=N**3)\n",
    "        \n",
    "# Plot the graph\n",
    "plot(g, **visual_style)"
   ]
  }
 ],
 "metadata": {
  "kernelspec": {
   "display_name": "Python 3",
   "language": "python",
   "name": "python3"
  },
  "language_info": {
   "codemirror_mode": {
    "name": "ipython",
    "version": 3
   },
   "file_extension": ".py",
   "mimetype": "text/x-python",
   "name": "python",
   "nbconvert_exporter": "python",
   "pygments_lexer": "ipython3",
   "version": "3.8.2"
  }
 },
 "nbformat": 4,
 "nbformat_minor": 4
}
