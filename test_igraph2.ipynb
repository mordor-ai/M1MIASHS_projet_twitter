{
 "cells": [
  {
   "cell_type": "markdown",
   "metadata": {
    "colab_type": "text",
    "id": "view-in-github"
   },
   "source": [
    "<a href=\"https://colab.research.google.com/github/mordor-ai/M1MIASHS_projet_twitter/blob/master/test_igraph2.ipynb\" target=\"_parent\"><img src=\"https://colab.research.google.com/assets/colab-badge.svg\" alt=\"Open In Colab\"/></a>"
   ]
  },
  {
   "cell_type": "code",
   "execution_count": 2,
   "metadata": {
    "colab": {
     "base_uri": "https://localhost:8080/",
     "height": 241
    },
    "colab_type": "code",
    "id": "WlS5n3tavEZr",
    "outputId": "e98b0d27-b83b-44eb-fb80-2cc8ecf365da"
   },
   "outputs": [
    {
     "name": "stdout",
     "output_type": "stream",
     "text": [
      "Requirement already satisfied: twint in /Users/epellegrin/src/twint (2.1.20)\r\n",
      "Requirement already satisfied: aiohttp in /Library/Frameworks/Python.framework/Versions/3.6/lib/python3.6/site-packages (from twint) (3.6.2)\r\n",
      "Requirement already satisfied: aiodns in /Library/Frameworks/Python.framework/Versions/3.6/lib/python3.6/site-packages (from twint) (2.0.0)\r\n",
      "Requirement already satisfied: beautifulsoup4 in /Library/Frameworks/Python.framework/Versions/3.6/lib/python3.6/site-packages (from twint) (4.9.0)\r\n",
      "Requirement already satisfied: cchardet in /Library/Frameworks/Python.framework/Versions/3.6/lib/python3.6/site-packages (from twint) (2.1.6)\r\n",
      "Requirement already satisfied: elasticsearch in /Library/Frameworks/Python.framework/Versions/3.6/lib/python3.6/site-packages (from twint) (7.6.0)\r\n",
      "Requirement already satisfied: pysocks in /Library/Frameworks/Python.framework/Versions/3.6/lib/python3.6/site-packages (from twint) (1.7.1)\r\n",
      "Requirement already satisfied: pandas in /Library/Frameworks/Python.framework/Versions/3.6/lib/python3.6/site-packages (from twint) (1.0.3)\r\n",
      "Requirement already satisfied: aiohttp_socks in /Library/Frameworks/Python.framework/Versions/3.6/lib/python3.6/site-packages (from twint) (0.3.7)\r\n",
      "Requirement already satisfied: schedule in /Library/Frameworks/Python.framework/Versions/3.6/lib/python3.6/site-packages (from twint) (0.6.0)\r\n",
      "Requirement already satisfied: geopy in /Library/Frameworks/Python.framework/Versions/3.6/lib/python3.6/site-packages (from twint) (1.21.0)\r\n",
      "Requirement already satisfied: fake-useragent in /Library/Frameworks/Python.framework/Versions/3.6/lib/python3.6/site-packages (from twint) (0.1.11)\r\n",
      "Requirement already satisfied: googletransx in /Library/Frameworks/Python.framework/Versions/3.6/lib/python3.6/site-packages (from twint) (2.4.2)\r\n",
      "Requirement already satisfied: idna-ssl>=1.0; python_version < \"3.7\" in /Library/Frameworks/Python.framework/Versions/3.6/lib/python3.6/site-packages (from aiohttp->twint) (1.1.0)\r\n",
      "Requirement already satisfied: async-timeout<4.0,>=3.0 in /Library/Frameworks/Python.framework/Versions/3.6/lib/python3.6/site-packages (from aiohttp->twint) (3.0.1)\r\n",
      "Requirement already satisfied: attrs>=17.3.0 in /Library/Frameworks/Python.framework/Versions/3.6/lib/python3.6/site-packages (from aiohttp->twint) (19.3.0)\r\n",
      "Requirement already satisfied: multidict<5.0,>=4.5 in /Library/Frameworks/Python.framework/Versions/3.6/lib/python3.6/site-packages (from aiohttp->twint) (4.7.5)\r\n",
      "Requirement already satisfied: yarl<2.0,>=1.0 in /Library/Frameworks/Python.framework/Versions/3.6/lib/python3.6/site-packages (from aiohttp->twint) (1.4.2)\r\n",
      "Requirement already satisfied: chardet<4.0,>=2.0 in /Library/Frameworks/Python.framework/Versions/3.6/lib/python3.6/site-packages (from aiohttp->twint) (3.0.4)\r\n",
      "Requirement already satisfied: typing-extensions>=3.6.5; python_version < \"3.7\" in /Library/Frameworks/Python.framework/Versions/3.6/lib/python3.6/site-packages (from aiohttp->twint) (3.7.4.2)\r\n",
      "Requirement already satisfied: pycares>=3.0.0 in /Library/Frameworks/Python.framework/Versions/3.6/lib/python3.6/site-packages (from aiodns->twint) (3.1.1)\r\n",
      "Requirement already satisfied: typing; python_version < \"3.7\" in /Library/Frameworks/Python.framework/Versions/3.6/lib/python3.6/site-packages (from aiodns->twint) (3.7.4.1)\r\n",
      "Requirement already satisfied: soupsieve>1.2 in /Library/Frameworks/Python.framework/Versions/3.6/lib/python3.6/site-packages (from beautifulsoup4->twint) (2.0)\r\n",
      "Requirement already satisfied: urllib3>=1.21.1 in /Library/Frameworks/Python.framework/Versions/3.6/lib/python3.6/site-packages (from elasticsearch->twint) (1.25.3)\r\n",
      "Requirement already satisfied: pytz>=2017.2 in /Library/Frameworks/Python.framework/Versions/3.6/lib/python3.6/site-packages (from pandas->twint) (2019.2)\r\n",
      "Requirement already satisfied: numpy>=1.13.3 in /Library/Frameworks/Python.framework/Versions/3.6/lib/python3.6/site-packages (from pandas->twint) (1.18.1)\r\n",
      "Requirement already satisfied: python-dateutil>=2.6.1 in /Library/Frameworks/Python.framework/Versions/3.6/lib/python3.6/site-packages (from pandas->twint) (2.8.0)\r\n",
      "Requirement already satisfied: geographiclib<2,>=1.49 in /Library/Frameworks/Python.framework/Versions/3.6/lib/python3.6/site-packages (from geopy->twint) (1.50)\r\n",
      "Requirement already satisfied: requests in /Library/Frameworks/Python.framework/Versions/3.6/lib/python3.6/site-packages (from googletransx->twint) (2.22.0)\r\n",
      "Requirement already satisfied: idna>=2.0 in /Library/Frameworks/Python.framework/Versions/3.6/lib/python3.6/site-packages (from idna-ssl>=1.0; python_version < \"3.7\"->aiohttp->twint) (2.8)\r\n",
      "Requirement already satisfied: cffi>=1.5.0 in /Library/Frameworks/Python.framework/Versions/3.6/lib/python3.6/site-packages (from pycares>=3.0.0->aiodns->twint) (1.14.0)\r\n",
      "Requirement already satisfied: six>=1.5 in /Library/Frameworks/Python.framework/Versions/3.6/lib/python3.6/site-packages (from python-dateutil>=2.6.1->pandas->twint) (1.12.0)\r\n",
      "Requirement already satisfied: certifi>=2017.4.17 in /Library/Frameworks/Python.framework/Versions/3.6/lib/python3.6/site-packages (from requests->googletransx->twint) (2019.6.16)\r\n",
      "Requirement already satisfied: pycparser in /Library/Frameworks/Python.framework/Versions/3.6/lib/python3.6/site-packages (from cffi>=1.5.0->pycares>=3.0.0->aiodns->twint) (2.20)\r\n"
     ]
    }
   ],
   "source": [
    "#!pip install python-igraph\n",
    "#!pip install cairocffi\n",
    "#!pip install pycairo\n",
    "!pip3 install twint"
   ]
  },
  {
   "cell_type": "code",
   "execution_count": 4,
   "metadata": {
    "colab": {
     "base_uri": "https://localhost:8080/",
     "height": 368
    },
    "colab_type": "code",
    "id": "r0gQzgvgv5HO",
    "outputId": "6ddc1003-2e91-4772-ca1f-ba357b1bd56b"
   },
   "outputs": [],
   "source": [
    "import pandas as pd\n",
    "import igraph\n",
    "import io\n",
    "import twint\n",
    "from igraph import plot\n",
    "import matplotlib.pyplot as plt\n"
   ]
  },
  {
   "cell_type": "code",
   "execution_count": 9,
   "metadata": {},
   "outputs": [
    {
     "ename": "AttributeError",
     "evalue": "module 'igraph' has no attribute 'test'",
     "output_type": "error",
     "traceback": [
      "\u001B[0;31m---------------------------------------------------------------------------\u001B[0m",
      "\u001B[0;31mAttributeError\u001B[0m                            Traceback (most recent call last)",
      "\u001B[0;32m<ipython-input-9-fc38564db062>\u001B[0m in \u001B[0;36m<module>\u001B[0;34m\u001B[0m\n\u001B[0;32m----> 1\u001B[0;31m \u001B[0migraph\u001B[0m\u001B[0;34m.\u001B[0m\u001B[0mtest\u001B[0m\u001B[0;34m.\u001B[0m\u001B[0mrun_tests\u001B[0m\u001B[0;34m(\u001B[0m\u001B[0;34m)\u001B[0m\u001B[0;34m\u001B[0m\u001B[0;34m\u001B[0m\u001B[0m\n\u001B[0m",
      "\u001B[0;31mAttributeError\u001B[0m: module 'igraph' has no attribute 'test'"
     ]
    }
   ],
   "source": []
  },
  {
   "cell_type": "code",
   "execution_count": 0,
   "metadata": {
    "colab": {},
    "colab_type": "code",
    "id": "XlYHV232zElZ"
   },
   "outputs": [],
   "source": [
    "#from google.colab import files\n",
    "#uploaded = files.upload()"
   ]
  },
  {
   "cell_type": "code",
   "execution_count": 10,
   "metadata": {
    "colab": {},
    "colab_type": "code",
    "id": "UJ6F_i2CwhwK"
   },
   "outputs": [],
   "source": [
    "#twitter = igraph.Graph.Read_Ncol('test_twitter.txt',  directed=True)"
   ]
  },
  {
   "cell_type": "code",
   "execution_count": 2,
   "metadata": {
    "pycharm": {
     "name": "#%%\n"
    }
   },
   "outputs": [
    {
     "ename": "NameError",
     "evalue": "name 'twitter' is not defined",
     "output_type": "error",
     "traceback": [
      "\u001B[0;31m---------------------------------------------------------------------------\u001B[0m",
      "\u001B[0;31mNameError\u001B[0m                                 Traceback (most recent call last)",
      "\u001B[0;32m<ipython-input-2-d8ed7151c691>\u001B[0m in \u001B[0;36m<module>\u001B[0;34m\u001B[0m\n\u001B[0;32m----> 1\u001B[0;31m \u001B[0mtwitter\u001B[0m\u001B[0;34m.\u001B[0m\u001B[0mRead_picklez\u001B[0m\u001B[0;34m(\u001B[0m\u001B[0;34m\"twitter_100K_pickle\"\u001B[0m\u001B[0;34m)\u001B[0m\u001B[0;34m\u001B[0m\u001B[0;34m\u001B[0m\u001B[0m\n\u001B[0m\u001B[1;32m      2\u001B[0m \u001B[0;34m\u001B[0m\u001B[0m\n",
      "\u001B[0;31mNameError\u001B[0m: name 'twitter' is not defined"
     ]
    }
   ],
   "source": [
    "twitter.Read_picklez(\"./files/twitter_100K_picklez\")"
   ]
  },
  {
   "cell_type": "code",
   "execution_count": 0,
   "metadata": {
    "colab": {},
    "colab_type": "code",
    "id": "XKeFxyRucQL3"
   },
   "outputs": [],
   "source": [
    "igraph.summary(twitter)"
   ]
  },
  {
   "cell_type": "code",
   "execution_count": 11,
   "metadata": {
    "colab": {
     "base_uri": "https://localhost:8080/",
     "height": 51
    },
    "colab_type": "code",
    "id": "lMXecmo6dPAx",
    "outputId": "493ba930-327b-4b12-e8e6-0490beef7ef7"
   },
   "outputs": [
    {
     "name": "stdout",
     "output_type": "stream",
     "text": [
      "IGRAPH DN-- 44 54 -- \n",
      "+ attr: name (v)\n"
     ]
    }
   ],
   "source": [
    "igraph.summary(twitter)"
   ]
  },
  {
   "cell_type": "code",
   "execution_count": 12,
   "metadata": {
    "pycharm": {
     "name": "#%%\n"
    }
   },
   "outputs": [
    {
     "data": {
      "image/svg+xml": [
       "<?xml version=\"1.0\" encoding=\"UTF-8\"?>\n",
       "<svg xmlns=\"http://www.w3.org/2000/svg\" xmlns:xlink=\"http://www.w3.org/1999/xlink\" width=\"600pt\" height=\"600pt\" viewBox=\"0 0 600 600\" version=\"1.1\">\n",
       "<g id=\"surface2\">\n",
       "<rect x=\"0\" y=\"0\" width=\"600\" height=\"600\" style=\"fill:rgb(100%,100%,100%);fill-opacity:1;stroke:none;\"/>\n",
       "<path style=\"fill:none;stroke-width:1;stroke-linecap:butt;stroke-linejoin:miter;stroke:rgb(26.666667%,26.666667%,26.666667%);stroke-opacity:1;stroke-miterlimit:10;\" d=\"M 422.007812 60.460938 L 414.492188 86.289062 \"/>\n",
       "<path style=\" stroke:none;fill-rule:nonzero;fill:rgb(26.666667%,26.666667%,26.666667%);fill-opacity:1;\" d=\"M 410.503906 99.988281 L 410.039062 84.996094 L 418.941406 87.585938 L 410.503906 99.988281 \"/>\n",
       "<path style=\"fill:none;stroke-width:1;stroke-linecap:butt;stroke-linejoin:miter;stroke:rgb(26.666667%,26.666667%,26.666667%);stroke-opacity:1;stroke-miterlimit:10;\" d=\"M 460.164062 256.492188 C 461.253906 270.707031 469.195312 283.550781 482.722656 282.214844 \"/>\n",
       "<path style=\" stroke:none;fill-rule:nonzero;fill:rgb(26.666667%,26.666667%,26.666667%);fill-opacity:1;\" d=\"M 496.917969 280.8125 L 483.179688 286.828125 L 482.265625 277.601562 L 496.917969 280.8125 \"/>\n",
       "<path style=\"fill:none;stroke-width:1;stroke-linecap:butt;stroke-linejoin:miter;stroke:rgb(26.666667%,26.666667%,26.666667%);stroke-opacity:1;stroke-miterlimit:10;\" d=\"M 507.1875 279.800781 C 506.097656 265.585938 498.160156 252.742188 484.628906 254.078125 \"/>\n",
       "<path style=\" stroke:none;fill-rule:nonzero;fill:rgb(26.666667%,26.666667%,26.666667%);fill-opacity:1;\" d=\"M 470.433594 255.480469 L 484.175781 249.464844 L 485.085938 258.691406 L 470.433594 255.480469 \"/>\n",
       "<path style=\"fill:none;stroke-width:1;stroke-linecap:butt;stroke-linejoin:miter;stroke:rgb(26.666667%,26.666667%,26.666667%);stroke-opacity:1;stroke-miterlimit:10;\" d=\"M 495.457031 157.195312 C 506.707031 149.972656 513.941406 137.488281 506.65625 127.125 \"/>\n",
       "<path style=\" stroke:none;fill-rule:nonzero;fill:rgb(26.666667%,26.666667%,26.666667%);fill-opacity:1;\" d=\"M 498.449219 115.457031 L 510.445312 124.460938 L 502.863281 129.792969 L 498.449219 115.457031 \"/>\n",
       "<path style=\"fill:none;stroke-width:1;stroke-linecap:butt;stroke-linejoin:miter;stroke:rgb(26.666667%,26.666667%,26.666667%);stroke-opacity:1;stroke-miterlimit:10;\" d=\"M 492.53125 107.039062 C 481.277344 114.261719 474.042969 126.746094 481.328125 137.105469 \"/>\n",
       "<path style=\" stroke:none;fill-rule:nonzero;fill:rgb(26.666667%,26.666667%,26.666667%);fill-opacity:1;\" d=\"M 489.535156 148.777344 L 477.539062 139.773438 L 485.121094 134.441406 L 489.535156 148.777344 \"/>\n",
       "<path style=\"fill:none;stroke-width:1;stroke-linecap:butt;stroke-linejoin:miter;stroke:rgb(26.666667%,26.666667%,26.666667%);stroke-opacity:1;stroke-miterlimit:10;\" d=\"M 495.457031 157.195312 L 520.476562 167.175781 \"/>\n",
       "<path style=\" stroke:none;fill-rule:nonzero;fill:rgb(26.666667%,26.666667%,26.666667%);fill-opacity:1;\" d=\"M 533.726562 172.460938 L 518.757812 171.480469 L 522.191406 162.871094 L 533.726562 172.460938 \"/>\n",
       "<path style=\"fill:none;stroke-width:1;stroke-linecap:butt;stroke-linejoin:miter;stroke:rgb(26.666667%,26.666667%,26.666667%);stroke-opacity:1;stroke-miterlimit:10;\" d=\"M 564.671875 221.222656 L 553.527344 198.035156 \"/>\n",
       "<path style=\" stroke:none;fill-rule:nonzero;fill:rgb(26.666667%,26.666667%,26.666667%);fill-opacity:1;\" d=\"M 547.347656 185.179688 L 557.703125 196.027344 L 549.347656 200.042969 L 547.347656 185.179688 \"/>\n",
       "<path style=\"fill:none;stroke-width:1;stroke-linecap:butt;stroke-linejoin:miter;stroke:rgb(26.666667%,26.666667%,26.666667%);stroke-opacity:1;stroke-miterlimit:10;\" d=\"M 552.199219 439.960938 C 563.605469 432.53125 570.84375 419.832031 563.402344 409.265625 \"/>\n",
       "<path style=\" stroke:none;fill-rule:nonzero;fill:rgb(26.666667%,26.666667%,26.666667%);fill-opacity:1;\" d=\"M 555.1875 397.605469 L 567.191406 406.597656 L 559.613281 411.9375 L 555.1875 397.605469 \"/>\n",
       "<path style=\"fill:none;stroke-width:1;stroke-linecap:butt;stroke-linejoin:miter;stroke:rgb(26.666667%,26.666667%,26.666667%);stroke-opacity:1;stroke-miterlimit:10;\" d=\"M 580 347.808594 C 585.46875 360.570312 584.414062 375.351562 572.125 380.183594 \"/>\n",
       "<path style=\" stroke:none;fill-rule:nonzero;fill:rgb(26.666667%,26.666667%,26.666667%);fill-opacity:1;\" d=\"M 558.851562 385.410156 L 570.429688 375.871094 L 573.824219 384.5 L 558.851562 385.410156 \"/>\n",
       "<path style=\"fill:none;stroke-width:1;stroke-linecap:butt;stroke-linejoin:miter;stroke:rgb(26.666667%,26.666667%,26.666667%);stroke-opacity:1;stroke-miterlimit:10;\" d=\"M 497.714844 379.15625 L 525.4375 384.550781 \"/>\n",
       "<path style=\" stroke:none;fill-rule:nonzero;fill:rgb(26.666667%,26.666667%,26.666667%);fill-opacity:1;\" d=\"M 539.441406 387.273438 L 524.554688 389.097656 L 526.324219 380 L 539.441406 387.273438 \"/>\n",
       "<path style=\"fill:none;stroke-width:1;stroke-linecap:butt;stroke-linejoin:miter;stroke:rgb(26.666667%,26.666667%,26.666667%);stroke-opacity:1;stroke-miterlimit:10;\" d=\"M 549.257812 389.183594 C 537.851562 396.613281 530.613281 409.308594 538.054688 419.875 \"/>\n",
       "<path style=\" stroke:none;fill-rule:nonzero;fill:rgb(26.666667%,26.666667%,26.666667%);fill-opacity:1;\" d=\"M 546.269531 431.539062 L 534.265625 422.542969 L 541.84375 417.203125 L 546.269531 431.539062 \"/>\n",
       "<path style=\"fill:none;stroke-width:1;stroke-linecap:butt;stroke-linejoin:miter;stroke:rgb(26.666667%,26.666667%,26.666667%);stroke-opacity:1;stroke-miterlimit:10;\" d=\"M 549.257812 389.183594 C 543.789062 376.421875 544.84375 361.640625 557.132812 356.804688 \"/>\n",
       "<path style=\" stroke:none;fill-rule:nonzero;fill:rgb(26.666667%,26.666667%,26.666667%);fill-opacity:1;\" d=\"M 570.40625 351.582031 L 558.828125 361.117188 L 555.4375 352.492188 L 570.40625 351.582031 \"/>\n",
       "<path style=\"fill:none;stroke-width:1;stroke-linecap:butt;stroke-linejoin:miter;stroke:rgb(26.666667%,26.666667%,26.666667%);stroke-opacity:1;stroke-miterlimit:10;\" d=\"M 462.558594 541.789062 C 475.269531 543.1875 488.339844 538.203125 488.972656 526.167969 \"/>\n",
       "<path style=\" stroke:none;fill-rule:nonzero;fill:rgb(26.666667%,26.666667%,26.666667%);fill-opacity:1;\" d=\"M 489.71875 511.921875 L 493.601562 526.410156 L 484.34375 525.925781 L 489.71875 511.921875 \"/>\n",
       "<path style=\"fill:none;stroke-width:1;stroke-linecap:butt;stroke-linejoin:miter;stroke:rgb(26.666667%,26.666667%,26.666667%);stroke-opacity:1;stroke-miterlimit:10;\" d=\"M 490.257812 501.660156 C 477.550781 500.265625 464.480469 505.25 463.847656 517.285156 \"/>\n",
       "<path style=\" stroke:none;fill-rule:nonzero;fill:rgb(26.666667%,26.666667%,26.666667%);fill-opacity:1;\" d=\"M 463.097656 531.53125 L 459.21875 517.042969 L 468.476562 517.527344 L 463.097656 531.53125 \"/>\n",
       "<path style=\"fill:none;stroke-width:1;stroke-linecap:butt;stroke-linejoin:miter;stroke:rgb(26.666667%,26.666667%,26.666667%);stroke-opacity:1;stroke-miterlimit:10;\" d=\"M 425.660156 574.492188 C 422.777344 561.816406 426.28125 548.109375 438.378906 546.003906 \"/>\n",
       "<path style=\" stroke:none;fill-rule:nonzero;fill:rgb(26.666667%,26.666667%,26.666667%);fill-opacity:1;\" d=\"M 452.433594 543.554688 L 439.171875 550.570312 L 437.582031 541.4375 L 452.433594 543.554688 \"/>\n",
       "<path style=\"fill:none;stroke-width:1;stroke-linecap:butt;stroke-linejoin:miter;stroke:rgb(26.666667%,26.666667%,26.666667%);stroke-opacity:1;stroke-miterlimit:10;\" d=\"M 462.558594 541.789062 C 465.445312 554.46875 461.9375 568.175781 449.84375 570.28125 \"/>\n",
       "<path style=\" stroke:none;fill-rule:nonzero;fill:rgb(26.666667%,26.666667%,26.666667%);fill-opacity:1;\" d=\"M 435.789062 572.730469 L 449.046875 565.714844 L 450.636719 574.847656 L 435.789062 572.730469 \"/>\n",
       "<path style=\"fill:none;stroke-width:1;stroke-linecap:butt;stroke-linejoin:miter;stroke:rgb(26.666667%,26.666667%,26.666667%);stroke-opacity:1;stroke-miterlimit:10;\" d=\"M 262.960938 547.015625 C 261.007812 561.242188 266.089844 575.546875 279.703125 577.140625 \"/>\n",
       "<path style=\" stroke:none;fill-rule:nonzero;fill:rgb(26.666667%,26.666667%,26.666667%);fill-opacity:1;\" d=\"M 293.871094 578.800781 L 279.164062 581.746094 L 280.242188 572.539062 L 293.871094 578.800781 \"/>\n",
       "<path style=\"fill:none;stroke-width:1;stroke-linecap:butt;stroke-linejoin:miter;stroke:rgb(26.666667%,26.666667%,26.666667%);stroke-opacity:1;stroke-miterlimit:10;\" d=\"M 304.125 580 C 306.074219 565.773438 300.992188 551.46875 287.378906 549.875 \"/>\n",
       "<path style=\" stroke:none;fill-rule:nonzero;fill:rgb(26.666667%,26.666667%,26.666667%);fill-opacity:1;\" d=\"M 273.210938 548.214844 L 287.917969 545.269531 L 286.839844 554.476562 L 273.210938 548.214844 \"/>\n",
       "<path style=\"fill:none;stroke-width:1;stroke-linecap:butt;stroke-linejoin:miter;stroke:rgb(26.666667%,26.666667%,26.666667%);stroke-opacity:1;stroke-miterlimit:10;\" d=\"M 245.890625 495.945312 L 255.269531 524 \"/>\n",
       "<path style=\" stroke:none;fill-rule:nonzero;fill:rgb(26.666667%,26.666667%,26.666667%);fill-opacity:1;\" d=\"M 259.789062 537.53125 L 250.871094 525.46875 L 259.664062 522.53125 L 259.789062 537.53125 \"/>\n",
       "<path style=\"fill:none;stroke-width:1;stroke-linecap:butt;stroke-linejoin:miter;stroke:rgb(26.666667%,26.666667%,26.666667%);stroke-opacity:1;stroke-miterlimit:10;\" d=\"M 275.632812 460.972656 C 280.285156 471.679688 279.460938 484.800781 269.144531 488.226562 \"/>\n",
       "<path style=\" stroke:none;fill-rule:nonzero;fill:rgb(26.666667%,26.666667%,26.666667%);fill-opacity:1;\" d=\"M 255.605469 492.71875 L 267.683594 483.828125 L 270.605469 492.625 L 255.605469 492.71875 \"/>\n",
       "<path style=\"fill:none;stroke-width:1;stroke-linecap:butt;stroke-linejoin:miter;stroke:rgb(26.666667%,26.666667%,26.666667%);stroke-opacity:1;stroke-miterlimit:10;\" d=\"M 222.917969 442.621094 L 236.289062 473.660156 \"/>\n",
       "<path style=\" stroke:none;fill-rule:nonzero;fill:rgb(26.666667%,26.666667%,26.666667%);fill-opacity:1;\" d=\"M 241.933594 486.761719 L 232.03125 475.492188 L 240.546875 471.824219 L 241.933594 486.761719 \"/>\n",
       "<path style=\"fill:none;stroke-width:1;stroke-linecap:butt;stroke-linejoin:miter;stroke:rgb(26.666667%,26.666667%,26.666667%);stroke-opacity:1;stroke-miterlimit:10;\" d=\"M 245.890625 495.945312 C 241.238281 485.238281 242.0625 472.113281 252.378906 468.6875 \"/>\n",
       "<path style=\" stroke:none;fill-rule:nonzero;fill:rgb(26.666667%,26.666667%,26.666667%);fill-opacity:1;\" d=\"M 265.917969 464.195312 L 253.839844 473.089844 L 250.917969 464.289062 L 265.917969 464.195312 \"/>\n",
       "<path style=\"fill:none;stroke-width:1;stroke-linecap:butt;stroke-linejoin:miter;stroke:rgb(26.666667%,26.666667%,26.666667%);stroke-opacity:1;stroke-miterlimit:10;\" d=\"M 222.917969 442.621094 C 235.152344 432.96875 250.984375 429.980469 260.308594 441.703125 \"/>\n",
       "<path style=\" stroke:none;fill-rule:nonzero;fill:rgb(26.666667%,26.666667%,26.666667%);fill-opacity:1;\" d=\"M 269.1875 452.867188 L 256.679688 444.589844 L 263.9375 438.816406 L 269.1875 452.867188 \"/>\n",
       "<path style=\"fill:none;stroke-width:1;stroke-linecap:butt;stroke-linejoin:miter;stroke:rgb(26.666667%,26.666667%,26.666667%);stroke-opacity:1;stroke-miterlimit:10;\" d=\"M 275.632812 460.972656 C 263.398438 470.625 247.566406 473.613281 238.242188 461.890625 \"/>\n",
       "<path style=\" stroke:none;fill-rule:nonzero;fill:rgb(26.666667%,26.666667%,26.666667%);fill-opacity:1;\" d=\"M 229.359375 450.722656 L 241.871094 459.003906 L 234.613281 464.773438 L 229.359375 450.722656 \"/>\n",
       "<path style=\"fill:none;stroke-width:1;stroke-linecap:butt;stroke-linejoin:miter;stroke:rgb(26.666667%,26.666667%,26.666667%);stroke-opacity:1;stroke-miterlimit:10;\" d=\"M 279.347656 411.957031 L 244.238281 431.035156 \"/>\n",
       "<path style=\" stroke:none;fill-rule:nonzero;fill:rgb(26.666667%,26.666667%,26.666667%);fill-opacity:1;\" d=\"M 231.703125 437.847656 L 242.023438 426.960938 L 246.449219 435.109375 L 231.703125 437.847656 \"/>\n",
       "<path style=\"fill:none;stroke-width:1;stroke-linecap:butt;stroke-linejoin:miter;stroke:rgb(26.666667%,26.666667%,26.666667%);stroke-opacity:1;stroke-miterlimit:10;\" d=\"M 188.511719 495.128906 L 209.617188 462.917969 \"/>\n",
       "<path style=\" stroke:none;fill-rule:nonzero;fill:rgb(26.666667%,26.666667%,26.666667%);fill-opacity:1;\" d=\"M 217.4375 450.984375 L 213.496094 465.457031 L 205.742188 460.378906 L 217.4375 450.984375 \"/>\n",
       "<path style=\"fill:none;stroke-width:1;stroke-linecap:butt;stroke-linejoin:miter;stroke:rgb(26.666667%,26.666667%,26.666667%);stroke-opacity:1;stroke-miterlimit:10;\" d=\"M 222.917969 442.621094 L 196.953125 414.046875 \"/>\n",
       "<path style=\" stroke:none;fill-rule:nonzero;fill:rgb(26.666667%,26.666667%,26.666667%);fill-opacity:1;\" d=\"M 187.359375 403.492188 L 200.382812 410.929688 L 193.523438 417.167969 L 187.359375 403.492188 \"/>\n",
       "<path style=\"fill:none;stroke-width:1;stroke-linecap:butt;stroke-linejoin:miter;stroke:rgb(26.666667%,26.666667%,26.666667%);stroke-opacity:1;stroke-miterlimit:10;\" d=\"M 128.828125 357.742188 L 161.128906 381.652344 \"/>\n",
       "<path style=\" stroke:none;fill-rule:nonzero;fill:rgb(26.666667%,26.666667%,26.666667%);fill-opacity:1;\" d=\"M 172.597656 390.140625 L 158.371094 385.378906 L 163.886719 377.925781 L 172.597656 390.140625 \"/>\n",
       "<path style=\"fill:none;stroke-width:1;stroke-linecap:butt;stroke-linejoin:miter;stroke:rgb(26.666667%,26.666667%,26.666667%);stroke-opacity:1;stroke-miterlimit:10;\" d=\"M 149.992188 441.648438 L 167.089844 416.226562 \"/>\n",
       "<path style=\" stroke:none;fill-rule:nonzero;fill:rgb(26.666667%,26.666667%,26.666667%);fill-opacity:1;\" d=\"M 175.054688 404.386719 L 170.9375 418.8125 L 163.246094 413.636719 L 175.054688 404.386719 \"/>\n",
       "<path style=\"fill:none;stroke-width:1;stroke-linecap:butt;stroke-linejoin:miter;stroke:rgb(26.666667%,26.666667%,26.666667%);stroke-opacity:1;stroke-miterlimit:10;\" d=\"M 227.871094 362.3125 L 200.371094 381.976562 \"/>\n",
       "<path style=\" stroke:none;fill-rule:nonzero;fill:rgb(26.666667%,26.666667%,26.666667%);fill-opacity:1;\" d=\"M 188.769531 390.273438 L 197.675781 378.203125 L 203.070312 385.746094 L 188.769531 390.273438 \"/>\n",
       "<path style=\"fill:none;stroke-width:1;stroke-linecap:butt;stroke-linejoin:miter;stroke:rgb(26.666667%,26.666667%,26.666667%);stroke-opacity:1;stroke-miterlimit:10;\" d=\"M 128.828125 357.742188 L 121.226562 315.140625 \"/>\n",
       "<path style=\" stroke:none;fill-rule:nonzero;fill:rgb(26.666667%,26.666667%,26.666667%);fill-opacity:1;\" d=\"M 118.71875 301.097656 L 125.789062 314.324219 L 116.660156 315.953125 L 118.71875 301.097656 \"/>\n",
       "<path style=\"fill:none;stroke-width:1;stroke-linecap:butt;stroke-linejoin:miter;stroke:rgb(26.666667%,26.666667%,26.666667%);stroke-opacity:1;stroke-miterlimit:10;\" d=\"M 53.632812 278.375 L 93.179688 286.417969 \"/>\n",
       "<path style=\" stroke:none;fill-rule:nonzero;fill:rgb(26.666667%,26.666667%,26.666667%);fill-opacity:1;\" d=\"M 107.160156 289.257812 L 92.257812 290.957031 L 94.105469 281.875 L 107.160156 289.257812 \"/>\n",
       "<path style=\"fill:none;stroke-width:1;stroke-linecap:butt;stroke-linejoin:miter;stroke:rgb(26.666667%,26.666667%,26.666667%);stroke-opacity:1;stroke-miterlimit:10;\" d=\"M 70.78125 247.324219 L 99.378906 274.527344 \"/>\n",
       "<path style=\" stroke:none;fill-rule:nonzero;fill:rgb(26.666667%,26.666667%,26.666667%);fill-opacity:1;\" d=\"M 109.714844 284.359375 L 96.183594 277.886719 L 102.574219 271.167969 L 109.714844 284.359375 \"/>\n",
       "<path style=\"fill:none;stroke-width:1;stroke-linecap:butt;stroke-linejoin:miter;stroke:rgb(26.666667%,26.666667%,26.666667%);stroke-opacity:1;stroke-miterlimit:10;\" d=\"M 139.375 235.050781 L 125.949219 268.710938 \"/>\n",
       "<path style=\" stroke:none;fill-rule:nonzero;fill:rgb(26.666667%,26.666667%,26.666667%);fill-opacity:1;\" d=\"M 120.664062 281.964844 L 121.644531 266.996094 L 130.257812 270.429688 L 120.664062 281.964844 \"/>\n",
       "<path style=\"fill:none;stroke-width:1;stroke-linecap:butt;stroke-linejoin:miter;stroke:rgb(26.666667%,26.666667%,26.666667%);stroke-opacity:1;stroke-miterlimit:10;\" d=\"M 68.589844 310.183594 L 94.363281 300.09375 \"/>\n",
       "<path style=\" stroke:none;fill-rule:nonzero;fill:rgb(26.666667%,26.666667%,26.666667%);fill-opacity:1;\" d=\"M 107.648438 294.894531 L 96.054688 304.410156 L 92.675781 295.777344 L 107.648438 294.894531 \"/>\n",
       "<path style=\"fill:none;stroke-width:1;stroke-linecap:butt;stroke-linejoin:miter;stroke:rgb(26.666667%,26.666667%,26.666667%);stroke-opacity:1;stroke-miterlimit:10;\" d=\"M 169.660156 256.203125 L 137.167969 277.8125 \"/>\n",
       "<path style=\" stroke:none;fill-rule:nonzero;fill:rgb(26.666667%,26.666667%,26.666667%);fill-opacity:1;\" d=\"M 125.289062 285.714844 L 134.597656 273.953125 L 139.734375 281.671875 L 125.289062 285.714844 \"/>\n",
       "<path style=\"fill:none;stroke-width:1;stroke-linecap:butt;stroke-linejoin:miter;stroke:rgb(26.666667%,26.666667%,26.666667%);stroke-opacity:1;stroke-miterlimit:10;\" d=\"M 102.359375 231.128906 L 111.234375 267.671875 \"/>\n",
       "<path style=\" stroke:none;fill-rule:nonzero;fill:rgb(26.666667%,26.666667%,26.666667%);fill-opacity:1;\" d=\"M 114.601562 281.535156 L 106.730469 268.765625 L 115.738281 266.578125 L 114.601562 281.535156 \"/>\n",
       "<path style=\"fill:none;stroke-width:1;stroke-linecap:butt;stroke-linejoin:miter;stroke:rgb(26.666667%,26.666667%,26.666667%);stroke-opacity:1;stroke-miterlimit:10;\" d=\"M 170.976562 290.957031 L 141.226562 291.117188 \"/>\n",
       "<path style=\" stroke:none;fill-rule:nonzero;fill:rgb(26.666667%,26.666667%,26.666667%);fill-opacity:1;\" d=\"M 126.960938 291.195312 L 141.199219 286.484375 L 141.25 295.753906 L 126.960938 291.195312 \"/>\n",
       "<path style=\"fill:none;stroke-width:1;stroke-linecap:butt;stroke-linejoin:miter;stroke:rgb(26.666667%,26.666667%,26.666667%);stroke-opacity:1;stroke-miterlimit:10;\" d=\"M 128.828125 357.742188 L 96.859375 379.261719 \"/>\n",
       "<path style=\" stroke:none;fill-rule:nonzero;fill:rgb(26.666667%,26.666667%,26.666667%);fill-opacity:1;\" d=\"M 85.023438 387.226562 L 94.269531 375.414062 L 99.445312 383.105469 L 85.023438 387.226562 \"/>\n",
       "<path style=\"fill:none;stroke-width:1;stroke-linecap:butt;stroke-linejoin:miter;stroke:rgb(26.666667%,26.666667%,26.666667%);stroke-opacity:1;stroke-miterlimit:10;\" d=\"M 71.296875 451.257812 L 74.480469 416.972656 \"/>\n",
       "<path style=\" stroke:none;fill-rule:nonzero;fill:rgb(26.666667%,26.666667%,26.666667%);fill-opacity:1;\" d=\"M 75.800781 402.765625 L 79.097656 417.402344 L 69.867188 416.542969 L 75.800781 402.765625 \"/>\n",
       "<path style=\"fill:none;stroke-width:1;stroke-linecap:butt;stroke-linejoin:miter;stroke:rgb(26.666667%,26.666667%,26.666667%);stroke-opacity:1;stroke-miterlimit:10;\" d=\"M 30.042969 423.761719 L 56.503906 406.21875 \"/>\n",
       "<path style=\" stroke:none;fill-rule:nonzero;fill:rgb(26.666667%,26.666667%,26.666667%);fill-opacity:1;\" d=\"M 68.394531 398.335938 L 59.0625 410.082031 L 53.941406 402.355469 L 68.394531 398.335938 \"/>\n",
       "<path style=\"fill:none;stroke-width:1;stroke-linecap:butt;stroke-linejoin:miter;stroke:rgb(26.666667%,26.666667%,26.666667%);stroke-opacity:1;stroke-miterlimit:10;\" d=\"M 20 373.628906 L 53.738281 385.035156 \"/>\n",
       "<path style=\" stroke:none;fill-rule:nonzero;fill:rgb(26.666667%,26.666667%,26.666667%);fill-opacity:1;\" d=\"M 67.253906 389.605469 L 52.253906 389.425781 L 55.226562 380.644531 L 67.253906 389.605469 \"/>\n",
       "<path style=\"fill:none;stroke-width:1;stroke-linecap:butt;stroke-linejoin:miter;stroke:rgb(26.666667%,26.666667%,26.666667%);stroke-opacity:1;stroke-miterlimit:10;\" d=\"M 239.398438 62.382812 C 246.5 53.058594 248.839844 40.085938 239.605469 34.261719 \"/>\n",
       "<path style=\" stroke:none;fill-rule:nonzero;fill:rgb(26.666667%,26.666667%,26.666667%);fill-opacity:1;\" d=\"M 227.542969 26.648438 L 242.082031 30.339844 L 237.132812 38.179688 L 227.542969 26.648438 \"/>\n",
       "<path style=\"fill:none;stroke-width:1;stroke-linecap:butt;stroke-linejoin:miter;stroke:rgb(26.666667%,26.666667%,26.666667%);stroke-opacity:1;stroke-miterlimit:10;\" d=\"M 273.03125 68.179688 L 237.210938 37.089844 \"/>\n",
       "<path style=\" stroke:none;fill-rule:nonzero;fill:rgb(26.666667%,26.666667%,26.666667%);fill-opacity:1;\" d=\"M 226.4375 27.738281 L 240.25 33.589844 L 234.171875 40.589844 L 226.4375 27.738281 \"/>\n",
       "<path style=\"fill:none;stroke-width:1;stroke-linecap:butt;stroke-linejoin:miter;stroke:rgb(26.666667%,26.666667%,26.666667%);stroke-opacity:1;stroke-miterlimit:10;\" d=\"M 190.253906 46.78125 L 200.792969 37.355469 \"/>\n",
       "<path style=\" stroke:none;fill-rule:nonzero;fill:rgb(26.666667%,26.666667%,26.666667%);fill-opacity:1;\" d=\"M 211.429688 27.847656 L 203.882812 40.8125 L 197.707031 33.902344 L 211.429688 27.847656 \"/>\n",
       "<path style=\"fill:none;stroke-width:1;stroke-linecap:butt;stroke-linejoin:miter;stroke:rgb(26.666667%,26.666667%,26.666667%);stroke-opacity:1;stroke-miterlimit:10;\" d=\"M 218.886719 21.183594 L 230.917969 20.789062 \"/>\n",
       "<path style=\" stroke:none;fill-rule:nonzero;fill:rgb(26.666667%,26.666667%,26.666667%);fill-opacity:1;\" d=\"M 245.175781 20.324219 L 231.070312 25.421875 L 230.769531 16.15625 L 245.175781 20.324219 \"/>\n",
       "<path style=\"fill:none;stroke-width:1;stroke-linecap:butt;stroke-linejoin:miter;stroke:rgb(26.666667%,26.666667%,26.666667%);stroke-opacity:1;stroke-miterlimit:10;\" d=\"M 239.398438 62.382812 C 250.761719 61.359375 261.71875 54.460938 259.742188 44.0625 \"/>\n",
       "<path style=\" stroke:none;fill-rule:nonzero;fill:rgb(26.666667%,26.666667%,26.666667%);fill-opacity:1;\" d=\"M 257.082031 30.046875 L 264.296875 43.195312 L 255.1875 44.925781 L 257.082031 30.046875 \"/>\n",
       "<path style=\"fill:none;stroke-width:1;stroke-linecap:butt;stroke-linejoin:miter;stroke:rgb(26.666667%,26.666667%,26.666667%);stroke-opacity:1;stroke-miterlimit:10;\" d=\"M 302.003906 32.695312 L 278.59375 26.347656 \"/>\n",
       "<path style=\" stroke:none;fill-rule:nonzero;fill:rgb(26.666667%,26.666667%,26.666667%);fill-opacity:1;\" d=\"M 264.824219 22.617188 L 279.804688 21.875 L 277.378906 30.820312 L 264.824219 22.617188 \"/>\n",
       "<path style=\"fill:none;stroke-width:1;stroke-linecap:butt;stroke-linejoin:miter;stroke:rgb(26.666667%,26.666667%,26.666667%);stroke-opacity:1;stroke-miterlimit:10;\" d=\"M 273.03125 68.179688 L 263.605469 42.753906 \"/>\n",
       "<path style=\" stroke:none;fill-rule:nonzero;fill:rgb(26.666667%,26.666667%,26.666667%);fill-opacity:1;\" d=\"M 258.648438 29.375 L 267.953125 41.140625 L 259.261719 44.363281 L 258.648438 29.375 \"/>\n",
       "<path style=\"fill:none;stroke-width:1;stroke-linecap:butt;stroke-linejoin:miter;stroke:rgb(26.666667%,26.666667%,26.666667%);stroke-opacity:1;stroke-miterlimit:10;\" d=\"M 190.253906 46.78125 L 232.738281 29.253906 \"/>\n",
       "<path style=\" stroke:none;fill-rule:nonzero;fill:rgb(26.666667%,26.666667%,26.666667%);fill-opacity:1;\" d=\"M 245.925781 23.8125 L 234.507812 33.539062 L 230.972656 24.96875 L 245.925781 23.8125 \"/>\n",
       "<path style=\"fill:none;stroke-width:1;stroke-linecap:butt;stroke-linejoin:miter;stroke:rgb(26.666667%,26.666667%,26.666667%);stroke-opacity:1;stroke-miterlimit:10;\" d=\"M 218.886719 21.183594 C 211.785156 30.503906 209.445312 43.480469 218.675781 49.304688 \"/>\n",
       "<path style=\" stroke:none;fill-rule:nonzero;fill:rgb(26.666667%,26.666667%,26.666667%);fill-opacity:1;\" d=\"M 230.742188 56.917969 L 216.203125 53.226562 L 221.152344 45.386719 L 230.742188 56.917969 \"/>\n",
       "<path style=\"fill:none;stroke-width:1;stroke-linecap:butt;stroke-linejoin:miter;stroke:rgb(26.666667%,26.666667%,26.666667%);stroke-opacity:1;stroke-miterlimit:10;\" d=\"M 255.171875 20 C 243.808594 21.019531 232.851562 27.921875 234.828125 38.320312 \"/>\n",
       "<path style=\" stroke:none;fill-rule:nonzero;fill:rgb(26.666667%,26.666667%,26.666667%);fill-opacity:1;\" d=\"M 237.492188 52.335938 L 230.273438 39.1875 L 239.382812 37.457031 L 237.492188 52.335938 \"/>\n",
       "<path style=\"fill:none;stroke-width:1;stroke-linecap:butt;stroke-linejoin:miter;stroke:rgb(26.666667%,26.666667%,26.666667%);stroke-opacity:1;stroke-miterlimit:10;\" d=\"M 302.003906 32.695312 L 261.324219 51.984375 \"/>\n",
       "<path style=\" stroke:none;fill-rule:nonzero;fill:rgb(26.666667%,26.666667%,26.666667%);fill-opacity:1;\" d=\"M 248.433594 58.097656 L 259.339844 47.796875 L 263.3125 56.171875 L 248.433594 58.097656 \"/>\n",
       "<path style=\"fill:none;stroke-width:1;stroke-linecap:butt;stroke-linejoin:miter;stroke:rgb(26.666667%,26.666667%,26.666667%);stroke-opacity:1;stroke-miterlimit:10;\" d=\"M 190.253906 46.78125 L 216.269531 55.039062 \"/>\n",
       "<path style=\" stroke:none;fill-rule:nonzero;fill:rgb(26.666667%,26.666667%,26.666667%);fill-opacity:1;\" d=\"M 229.867188 59.355469 L 214.867188 59.457031 L 217.675781 50.621094 L 229.867188 59.355469 \"/>\n",
       "<path style=\"fill-rule:nonzero;fill:rgb(100%,0%,0%);fill-opacity:1;stroke-width:1;stroke-linecap:butt;stroke-linejoin:miter;stroke:rgb(0%,0%,0%);stroke-opacity:1;stroke-miterlimit:10;\" d=\"M 432.007812 60.460938 C 432.007812 65.984375 427.53125 70.460938 422.007812 70.460938 C 416.484375 70.460938 412.007812 65.984375 412.007812 60.460938 C 412.007812 54.9375 416.484375 50.460938 422.007812 50.460938 C 427.53125 50.460938 432.007812 54.9375 432.007812 60.460938 \"/>\n",
       "<path style=\"fill-rule:nonzero;fill:rgb(100%,0%,0%);fill-opacity:1;stroke-width:1;stroke-linecap:butt;stroke-linejoin:miter;stroke:rgb(0%,0%,0%);stroke-opacity:1;stroke-miterlimit:10;\" d=\"M 417.710938 109.589844 C 417.710938 115.113281 413.234375 119.589844 407.710938 119.589844 C 402.1875 119.589844 397.710938 115.113281 397.710938 109.589844 C 397.710938 104.066406 402.1875 99.589844 407.710938 99.589844 C 413.234375 99.589844 417.710938 104.066406 417.710938 109.589844 \"/>\n",
       "<path style=\"fill-rule:nonzero;fill:rgb(100%,0%,0%);fill-opacity:1;stroke-width:1;stroke-linecap:butt;stroke-linejoin:miter;stroke:rgb(0%,0%,0%);stroke-opacity:1;stroke-miterlimit:10;\" d=\"M 470.164062 256.492188 C 470.164062 262.015625 465.6875 266.492188 460.164062 266.492188 C 454.644531 266.492188 450.164062 262.015625 450.164062 256.492188 C 450.164062 250.96875 454.644531 246.492188 460.164062 246.492188 C 465.6875 246.492188 470.164062 250.96875 470.164062 256.492188 \"/>\n",
       "<path style=\"fill-rule:nonzero;fill:rgb(100%,0%,0%);fill-opacity:1;stroke-width:1;stroke-linecap:butt;stroke-linejoin:miter;stroke:rgb(0%,0%,0%);stroke-opacity:1;stroke-miterlimit:10;\" d=\"M 517.1875 279.800781 C 517.1875 285.320312 512.710938 289.800781 507.1875 289.800781 C 501.664062 289.800781 497.1875 285.320312 497.1875 279.800781 C 497.1875 274.277344 501.664062 269.800781 507.1875 269.800781 C 512.710938 269.800781 517.1875 274.277344 517.1875 279.800781 \"/>\n",
       "<path style=\"fill-rule:nonzero;fill:rgb(100%,0%,0%);fill-opacity:1;stroke-width:1;stroke-linecap:butt;stroke-linejoin:miter;stroke:rgb(0%,0%,0%);stroke-opacity:1;stroke-miterlimit:10;\" d=\"M 505.457031 157.195312 C 505.457031 162.71875 500.976562 167.195312 495.457031 167.195312 C 489.933594 167.195312 485.457031 162.71875 485.457031 157.195312 C 485.457031 151.675781 489.933594 147.195312 495.457031 147.195312 C 500.976562 147.195312 505.457031 151.675781 505.457031 157.195312 \"/>\n",
       "<path style=\"fill-rule:nonzero;fill:rgb(100%,0%,0%);fill-opacity:1;stroke-width:1;stroke-linecap:butt;stroke-linejoin:miter;stroke:rgb(0%,0%,0%);stroke-opacity:1;stroke-miterlimit:10;\" d=\"M 502.53125 107.039062 C 502.53125 112.558594 498.050781 117.039062 492.53125 117.039062 C 487.007812 117.039062 482.53125 112.558594 482.53125 107.039062 C 482.53125 101.515625 487.007812 97.039062 492.53125 97.039062 C 498.050781 97.039062 502.53125 101.515625 502.53125 107.039062 \"/>\n",
       "<path style=\"fill-rule:nonzero;fill:rgb(100%,0%,0%);fill-opacity:1;stroke-width:1;stroke-linecap:butt;stroke-linejoin:miter;stroke:rgb(0%,0%,0%);stroke-opacity:1;stroke-miterlimit:10;\" d=\"M 553.015625 176.164062 C 553.015625 181.6875 548.539062 186.164062 543.015625 186.164062 C 537.492188 186.164062 533.015625 181.6875 533.015625 176.164062 C 533.015625 170.640625 537.492188 166.164062 543.015625 166.164062 C 548.539062 166.164062 553.015625 170.640625 553.015625 176.164062 \"/>\n",
       "<path style=\"fill-rule:nonzero;fill:rgb(100%,0%,0%);fill-opacity:1;stroke-width:1;stroke-linecap:butt;stroke-linejoin:miter;stroke:rgb(0%,0%,0%);stroke-opacity:1;stroke-miterlimit:10;\" d=\"M 574.671875 221.222656 C 574.671875 226.746094 570.195312 231.222656 564.671875 231.222656 C 559.148438 231.222656 554.671875 226.746094 554.671875 221.222656 C 554.671875 215.699219 559.148438 211.222656 564.671875 211.222656 C 570.195312 211.222656 574.671875 215.699219 574.671875 221.222656 \"/>\n",
       "<path style=\"fill-rule:nonzero;fill:rgb(100%,0%,0%);fill-opacity:1;stroke-width:1;stroke-linecap:butt;stroke-linejoin:miter;stroke:rgb(0%,0%,0%);stroke-opacity:1;stroke-miterlimit:10;\" d=\"M 562.199219 439.960938 C 562.199219 445.480469 557.722656 449.960938 552.199219 449.960938 C 546.675781 449.960938 542.199219 445.480469 542.199219 439.960938 C 542.199219 434.4375 546.675781 429.960938 552.199219 429.960938 C 557.722656 429.960938 562.199219 434.4375 562.199219 439.960938 \"/>\n",
       "<path style=\"fill-rule:nonzero;fill:rgb(100%,0%,0%);fill-opacity:1;stroke-width:1;stroke-linecap:butt;stroke-linejoin:miter;stroke:rgb(0%,0%,0%);stroke-opacity:1;stroke-miterlimit:10;\" d=\"M 559.257812 389.183594 C 559.257812 394.707031 554.78125 399.183594 549.257812 399.183594 C 543.734375 399.183594 539.257812 394.707031 539.257812 389.183594 C 539.257812 383.660156 543.734375 379.183594 549.257812 379.183594 C 554.78125 379.183594 559.257812 383.660156 559.257812 389.183594 \"/>\n",
       "<path style=\"fill-rule:nonzero;fill:rgb(100%,0%,0%);fill-opacity:1;stroke-width:1;stroke-linecap:butt;stroke-linejoin:miter;stroke:rgb(0%,0%,0%);stroke-opacity:1;stroke-miterlimit:10;\" d=\"M 590 347.808594 C 590 353.332031 585.523438 357.808594 580 357.808594 C 574.476562 357.808594 570 353.332031 570 347.808594 C 570 342.285156 574.476562 337.808594 580 337.808594 C 585.523438 337.808594 590 342.285156 590 347.808594 \"/>\n",
       "<path style=\"fill-rule:nonzero;fill:rgb(100%,0%,0%);fill-opacity:1;stroke-width:1;stroke-linecap:butt;stroke-linejoin:miter;stroke:rgb(0%,0%,0%);stroke-opacity:1;stroke-miterlimit:10;\" d=\"M 507.714844 379.15625 C 507.714844 384.679688 503.238281 389.15625 497.714844 389.15625 C 492.191406 389.15625 487.714844 384.679688 487.714844 379.15625 C 487.714844 373.632812 492.191406 369.15625 497.714844 369.15625 C 503.238281 369.15625 507.714844 373.632812 507.714844 379.15625 \"/>\n",
       "<path style=\"fill-rule:nonzero;fill:rgb(100%,0%,0%);fill-opacity:1;stroke-width:1;stroke-linecap:butt;stroke-linejoin:miter;stroke:rgb(0%,0%,0%);stroke-opacity:1;stroke-miterlimit:10;\" d=\"M 472.558594 541.789062 C 472.558594 547.3125 468.082031 551.789062 462.558594 551.789062 C 457.039062 551.789062 452.558594 547.3125 452.558594 541.789062 C 452.558594 536.269531 457.039062 531.789062 462.558594 531.789062 C 468.082031 531.789062 472.558594 536.269531 472.558594 541.789062 \"/>\n",
       "<path style=\"fill-rule:nonzero;fill:rgb(100%,0%,0%);fill-opacity:1;stroke-width:1;stroke-linecap:butt;stroke-linejoin:miter;stroke:rgb(0%,0%,0%);stroke-opacity:1;stroke-miterlimit:10;\" d=\"M 500.257812 501.660156 C 500.257812 507.183594 495.78125 511.660156 490.257812 511.660156 C 484.734375 511.660156 480.257812 507.183594 480.257812 501.660156 C 480.257812 496.136719 484.734375 491.660156 490.257812 491.660156 C 495.78125 491.660156 500.257812 496.136719 500.257812 501.660156 \"/>\n",
       "<path style=\"fill-rule:nonzero;fill:rgb(100%,0%,0%);fill-opacity:1;stroke-width:1;stroke-linecap:butt;stroke-linejoin:miter;stroke:rgb(0%,0%,0%);stroke-opacity:1;stroke-miterlimit:10;\" d=\"M 435.660156 574.492188 C 435.660156 580.015625 431.183594 584.492188 425.660156 584.492188 C 420.136719 584.492188 415.660156 580.015625 415.660156 574.492188 C 415.660156 568.972656 420.136719 564.492188 425.660156 564.492188 C 431.183594 564.492188 435.660156 568.972656 435.660156 574.492188 \"/>\n",
       "<path style=\"fill-rule:nonzero;fill:rgb(100%,0%,0%);fill-opacity:1;stroke-width:1;stroke-linecap:butt;stroke-linejoin:miter;stroke:rgb(0%,0%,0%);stroke-opacity:1;stroke-miterlimit:10;\" d=\"M 272.960938 547.015625 C 272.960938 552.539062 268.484375 557.015625 262.960938 557.015625 C 257.4375 557.015625 252.960938 552.539062 252.960938 547.015625 C 252.960938 541.492188 257.4375 537.015625 262.960938 537.015625 C 268.484375 537.015625 272.960938 541.492188 272.960938 547.015625 \"/>\n",
       "<path style=\"fill-rule:nonzero;fill:rgb(100%,0%,0%);fill-opacity:1;stroke-width:1;stroke-linecap:butt;stroke-linejoin:miter;stroke:rgb(0%,0%,0%);stroke-opacity:1;stroke-miterlimit:10;\" d=\"M 314.125 580 C 314.125 585.523438 309.644531 590 304.125 590 C 298.601562 590 294.125 585.523438 294.125 580 C 294.125 574.476562 298.601562 570 304.125 570 C 309.644531 570 314.125 574.476562 314.125 580 \"/>\n",
       "<path style=\"fill-rule:nonzero;fill:rgb(100%,0%,0%);fill-opacity:1;stroke-width:1;stroke-linecap:butt;stroke-linejoin:miter;stroke:rgb(0%,0%,0%);stroke-opacity:1;stroke-miterlimit:10;\" d=\"M 255.890625 495.945312 C 255.890625 501.464844 251.414062 505.945312 245.890625 505.945312 C 240.367188 505.945312 235.890625 501.464844 235.890625 495.945312 C 235.890625 490.421875 240.367188 485.945312 245.890625 485.945312 C 251.414062 485.945312 255.890625 490.421875 255.890625 495.945312 \"/>\n",
       "<path style=\"fill-rule:nonzero;fill:rgb(100%,0%,0%);fill-opacity:1;stroke-width:1;stroke-linecap:butt;stroke-linejoin:miter;stroke:rgb(0%,0%,0%);stroke-opacity:1;stroke-miterlimit:10;\" d=\"M 285.632812 460.972656 C 285.632812 466.496094 281.15625 470.972656 275.632812 470.972656 C 270.109375 470.972656 265.632812 466.496094 265.632812 460.972656 C 265.632812 455.449219 270.109375 450.972656 275.632812 450.972656 C 281.15625 450.972656 285.632812 455.449219 285.632812 460.972656 \"/>\n",
       "<path style=\"fill-rule:nonzero;fill:rgb(100%,0%,0%);fill-opacity:1;stroke-width:1;stroke-linecap:butt;stroke-linejoin:miter;stroke:rgb(0%,0%,0%);stroke-opacity:1;stroke-miterlimit:10;\" d=\"M 232.917969 442.621094 C 232.917969 448.144531 228.441406 452.621094 222.917969 452.621094 C 217.394531 452.621094 212.917969 448.144531 212.917969 442.621094 C 212.917969 437.097656 217.394531 432.621094 222.917969 432.621094 C 228.441406 432.621094 232.917969 437.097656 232.917969 442.621094 \"/>\n",
       "<path style=\"fill-rule:nonzero;fill:rgb(100%,0%,0%);fill-opacity:1;stroke-width:1;stroke-linecap:butt;stroke-linejoin:miter;stroke:rgb(0%,0%,0%);stroke-opacity:1;stroke-miterlimit:10;\" d=\"M 289.347656 411.957031 C 289.347656 417.480469 284.867188 421.957031 279.347656 421.957031 C 273.824219 421.957031 269.347656 417.480469 269.347656 411.957031 C 269.347656 406.433594 273.824219 401.957031 279.347656 401.957031 C 284.867188 401.957031 289.347656 406.433594 289.347656 411.957031 \"/>\n",
       "<path style=\"fill-rule:nonzero;fill:rgb(100%,0%,0%);fill-opacity:1;stroke-width:1;stroke-linecap:butt;stroke-linejoin:miter;stroke:rgb(0%,0%,0%);stroke-opacity:1;stroke-miterlimit:10;\" d=\"M 198.511719 495.128906 C 198.511719 500.652344 194.035156 505.128906 188.511719 505.128906 C 182.988281 505.128906 178.511719 500.652344 178.511719 495.128906 C 178.511719 489.605469 182.988281 485.128906 188.511719 485.128906 C 194.035156 485.128906 198.511719 489.605469 198.511719 495.128906 \"/>\n",
       "<path style=\"fill-rule:nonzero;fill:rgb(100%,0%,0%);fill-opacity:1;stroke-width:1;stroke-linecap:butt;stroke-linejoin:miter;stroke:rgb(0%,0%,0%);stroke-opacity:1;stroke-miterlimit:10;\" d=\"M 190.632812 396.089844 C 190.632812 401.613281 186.15625 406.089844 180.632812 406.089844 C 175.109375 406.089844 170.632812 401.613281 170.632812 396.089844 C 170.632812 390.566406 175.109375 386.089844 180.632812 386.089844 C 186.15625 386.089844 190.632812 390.566406 190.632812 396.089844 \"/>\n",
       "<path style=\"fill-rule:nonzero;fill:rgb(100%,0%,0%);fill-opacity:1;stroke-width:1;stroke-linecap:butt;stroke-linejoin:miter;stroke:rgb(0%,0%,0%);stroke-opacity:1;stroke-miterlimit:10;\" d=\"M 138.828125 357.742188 C 138.828125 363.265625 134.351562 367.742188 128.828125 367.742188 C 123.308594 367.742188 118.828125 363.265625 118.828125 357.742188 C 118.828125 352.21875 123.308594 347.742188 128.828125 347.742188 C 134.351562 347.742188 138.828125 352.21875 138.828125 357.742188 \"/>\n",
       "<path style=\"fill-rule:nonzero;fill:rgb(100%,0%,0%);fill-opacity:1;stroke-width:1;stroke-linecap:butt;stroke-linejoin:miter;stroke:rgb(0%,0%,0%);stroke-opacity:1;stroke-miterlimit:10;\" d=\"M 159.992188 441.648438 C 159.992188 447.171875 155.515625 451.648438 149.992188 451.648438 C 144.46875 451.648438 139.992188 447.171875 139.992188 441.648438 C 139.992188 436.128906 144.46875 431.648438 149.992188 431.648438 C 155.515625 431.648438 159.992188 436.128906 159.992188 441.648438 \"/>\n",
       "<path style=\"fill-rule:nonzero;fill:rgb(100%,0%,0%);fill-opacity:1;stroke-width:1;stroke-linecap:butt;stroke-linejoin:miter;stroke:rgb(0%,0%,0%);stroke-opacity:1;stroke-miterlimit:10;\" d=\"M 237.871094 362.3125 C 237.871094 367.832031 233.394531 372.3125 227.871094 372.3125 C 222.347656 372.3125 217.871094 367.832031 217.871094 362.3125 C 217.871094 356.789062 222.347656 352.3125 227.871094 352.3125 C 233.394531 352.3125 237.871094 356.789062 237.871094 362.3125 \"/>\n",
       "<path style=\"fill-rule:nonzero;fill:rgb(100%,0%,0%);fill-opacity:1;stroke-width:1;stroke-linecap:butt;stroke-linejoin:miter;stroke:rgb(0%,0%,0%);stroke-opacity:1;stroke-miterlimit:10;\" d=\"M 126.960938 291.25 C 126.960938 296.773438 122.484375 301.25 116.960938 301.25 C 111.4375 301.25 106.960938 296.773438 106.960938 291.25 C 106.960938 285.730469 111.4375 281.25 116.960938 281.25 C 122.484375 281.25 126.960938 285.730469 126.960938 291.25 \"/>\n",
       "<path style=\"fill-rule:nonzero;fill:rgb(100%,0%,0%);fill-opacity:1;stroke-width:1;stroke-linecap:butt;stroke-linejoin:miter;stroke:rgb(0%,0%,0%);stroke-opacity:1;stroke-miterlimit:10;\" d=\"M 63.632812 278.375 C 63.632812 283.898438 59.15625 288.375 53.632812 288.375 C 48.109375 288.375 43.632812 283.898438 43.632812 278.375 C 43.632812 272.851562 48.109375 268.375 53.632812 268.375 C 59.15625 268.375 63.632812 272.851562 63.632812 278.375 \"/>\n",
       "<path style=\"fill-rule:nonzero;fill:rgb(100%,0%,0%);fill-opacity:1;stroke-width:1;stroke-linecap:butt;stroke-linejoin:miter;stroke:rgb(0%,0%,0%);stroke-opacity:1;stroke-miterlimit:10;\" d=\"M 80.78125 247.324219 C 80.78125 252.84375 76.304688 257.324219 70.78125 257.324219 C 65.257812 257.324219 60.78125 252.84375 60.78125 247.324219 C 60.78125 241.800781 65.257812 237.324219 70.78125 237.324219 C 76.304688 237.324219 80.78125 241.800781 80.78125 247.324219 \"/>\n",
       "<path style=\"fill-rule:nonzero;fill:rgb(100%,0%,0%);fill-opacity:1;stroke-width:1;stroke-linecap:butt;stroke-linejoin:miter;stroke:rgb(0%,0%,0%);stroke-opacity:1;stroke-miterlimit:10;\" d=\"M 149.375 235.050781 C 149.375 240.574219 144.898438 245.050781 139.375 245.050781 C 133.851562 245.050781 129.375 240.574219 129.375 235.050781 C 129.375 229.53125 133.851562 225.050781 139.375 225.050781 C 144.898438 225.050781 149.375 229.53125 149.375 235.050781 \"/>\n",
       "<path style=\"fill-rule:nonzero;fill:rgb(100%,0%,0%);fill-opacity:1;stroke-width:1;stroke-linecap:butt;stroke-linejoin:miter;stroke:rgb(0%,0%,0%);stroke-opacity:1;stroke-miterlimit:10;\" d=\"M 78.589844 310.183594 C 78.589844 315.707031 74.109375 320.183594 68.589844 320.183594 C 63.066406 320.183594 58.589844 315.707031 58.589844 310.183594 C 58.589844 304.660156 63.066406 300.183594 68.589844 300.183594 C 74.109375 300.183594 78.589844 304.660156 78.589844 310.183594 \"/>\n",
       "<path style=\"fill-rule:nonzero;fill:rgb(100%,0%,0%);fill-opacity:1;stroke-width:1;stroke-linecap:butt;stroke-linejoin:miter;stroke:rgb(0%,0%,0%);stroke-opacity:1;stroke-miterlimit:10;\" d=\"M 179.660156 256.203125 C 179.660156 261.726562 175.183594 266.203125 169.660156 266.203125 C 164.136719 266.203125 159.660156 261.726562 159.660156 256.203125 C 159.660156 250.679688 164.136719 246.203125 169.660156 246.203125 C 175.183594 246.203125 179.660156 250.679688 179.660156 256.203125 \"/>\n",
       "<path style=\"fill-rule:nonzero;fill:rgb(100%,0%,0%);fill-opacity:1;stroke-width:1;stroke-linecap:butt;stroke-linejoin:miter;stroke:rgb(0%,0%,0%);stroke-opacity:1;stroke-miterlimit:10;\" d=\"M 112.359375 231.128906 C 112.359375 236.648438 107.882812 241.128906 102.359375 241.128906 C 96.835938 241.128906 92.359375 236.648438 92.359375 231.128906 C 92.359375 225.605469 96.835938 221.128906 102.359375 221.128906 C 107.882812 221.128906 112.359375 225.605469 112.359375 231.128906 \"/>\n",
       "<path style=\"fill-rule:nonzero;fill:rgb(100%,0%,0%);fill-opacity:1;stroke-width:1;stroke-linecap:butt;stroke-linejoin:miter;stroke:rgb(0%,0%,0%);stroke-opacity:1;stroke-miterlimit:10;\" d=\"M 180.976562 290.957031 C 180.976562 296.480469 176.496094 300.957031 170.976562 300.957031 C 165.453125 300.957031 160.976562 296.480469 160.976562 290.957031 C 160.976562 285.433594 165.453125 280.957031 170.976562 280.957031 C 176.496094 280.957031 180.976562 285.433594 180.976562 290.957031 \"/>\n",
       "<path style=\"fill-rule:nonzero;fill:rgb(100%,0%,0%);fill-opacity:1;stroke-width:1;stroke-linecap:butt;stroke-linejoin:miter;stroke:rgb(0%,0%,0%);stroke-opacity:1;stroke-miterlimit:10;\" d=\"M 86.726562 392.808594 C 86.726562 398.332031 82.25 402.808594 76.726562 402.808594 C 71.203125 402.808594 66.726562 398.332031 66.726562 392.808594 C 66.726562 387.289062 71.203125 382.808594 76.726562 382.808594 C 82.25 382.808594 86.726562 387.289062 86.726562 392.808594 \"/>\n",
       "<path style=\"fill-rule:nonzero;fill:rgb(100%,0%,0%);fill-opacity:1;stroke-width:1;stroke-linecap:butt;stroke-linejoin:miter;stroke:rgb(0%,0%,0%);stroke-opacity:1;stroke-miterlimit:10;\" d=\"M 81.296875 451.257812 C 81.296875 456.777344 76.816406 461.257812 71.296875 461.257812 C 65.773438 461.257812 61.296875 456.777344 61.296875 451.257812 C 61.296875 445.734375 65.773438 441.257812 71.296875 441.257812 C 76.816406 441.257812 81.296875 445.734375 81.296875 451.257812 \"/>\n",
       "<path style=\"fill-rule:nonzero;fill:rgb(100%,0%,0%);fill-opacity:1;stroke-width:1;stroke-linecap:butt;stroke-linejoin:miter;stroke:rgb(0%,0%,0%);stroke-opacity:1;stroke-miterlimit:10;\" d=\"M 40.042969 423.761719 C 40.042969 429.285156 35.5625 433.761719 30.042969 433.761719 C 24.519531 433.761719 20.042969 429.285156 20.042969 423.761719 C 20.042969 418.238281 24.519531 413.761719 30.042969 413.761719 C 35.5625 413.761719 40.042969 418.238281 40.042969 423.761719 \"/>\n",
       "<path style=\"fill-rule:nonzero;fill:rgb(100%,0%,0%);fill-opacity:1;stroke-width:1;stroke-linecap:butt;stroke-linejoin:miter;stroke:rgb(0%,0%,0%);stroke-opacity:1;stroke-miterlimit:10;\" d=\"M 30 373.628906 C 30 379.148438 25.523438 383.628906 20 383.628906 C 14.476562 383.628906 10 379.148438 10 373.628906 C 10 368.105469 14.476562 363.628906 20 363.628906 C 25.523438 363.628906 30 368.105469 30 373.628906 \"/>\n",
       "<path style=\"fill-rule:nonzero;fill:rgb(100%,0%,0%);fill-opacity:1;stroke-width:1;stroke-linecap:butt;stroke-linejoin:miter;stroke:rgb(0%,0%,0%);stroke-opacity:1;stroke-miterlimit:10;\" d=\"M 249.398438 62.382812 C 249.398438 67.90625 244.921875 72.382812 239.398438 72.382812 C 233.878906 72.382812 229.398438 67.90625 229.398438 62.382812 C 229.398438 56.859375 233.878906 52.382812 239.398438 52.382812 C 244.921875 52.382812 249.398438 56.859375 249.398438 62.382812 \"/>\n",
       "<path style=\"fill-rule:nonzero;fill:rgb(100%,0%,0%);fill-opacity:1;stroke-width:1;stroke-linecap:butt;stroke-linejoin:miter;stroke:rgb(0%,0%,0%);stroke-opacity:1;stroke-miterlimit:10;\" d=\"M 228.886719 21.183594 C 228.886719 26.707031 224.40625 31.183594 218.886719 31.183594 C 213.363281 31.183594 208.886719 26.707031 208.886719 21.183594 C 208.886719 15.660156 213.363281 11.183594 218.886719 11.183594 C 224.40625 11.183594 228.886719 15.660156 228.886719 21.183594 \"/>\n",
       "<path style=\"fill-rule:nonzero;fill:rgb(100%,0%,0%);fill-opacity:1;stroke-width:1;stroke-linecap:butt;stroke-linejoin:miter;stroke:rgb(0%,0%,0%);stroke-opacity:1;stroke-miterlimit:10;\" d=\"M 283.03125 68.179688 C 283.03125 73.703125 278.554688 78.179688 273.03125 78.179688 C 267.511719 78.179688 263.03125 73.703125 263.03125 68.179688 C 263.03125 62.660156 267.511719 58.179688 273.03125 58.179688 C 278.554688 58.179688 283.03125 62.660156 283.03125 68.179688 \"/>\n",
       "<path style=\"fill-rule:nonzero;fill:rgb(100%,0%,0%);fill-opacity:1;stroke-width:1;stroke-linecap:butt;stroke-linejoin:miter;stroke:rgb(0%,0%,0%);stroke-opacity:1;stroke-miterlimit:10;\" d=\"M 200.253906 46.78125 C 200.253906 52.304688 195.777344 56.78125 190.253906 56.78125 C 184.730469 56.78125 180.253906 52.304688 180.253906 46.78125 C 180.253906 41.257812 184.730469 36.78125 190.253906 36.78125 C 195.777344 36.78125 200.253906 41.257812 200.253906 46.78125 \"/>\n",
       "<path style=\"fill-rule:nonzero;fill:rgb(100%,0%,0%);fill-opacity:1;stroke-width:1;stroke-linecap:butt;stroke-linejoin:miter;stroke:rgb(0%,0%,0%);stroke-opacity:1;stroke-miterlimit:10;\" d=\"M 265.171875 20 C 265.171875 25.523438 260.695312 30 255.171875 30 C 249.648438 30 245.171875 25.523438 245.171875 20 C 245.171875 14.476562 249.648438 10 255.171875 10 C 260.695312 10 265.171875 14.476562 265.171875 20 \"/>\n",
       "<path style=\"fill-rule:nonzero;fill:rgb(100%,0%,0%);fill-opacity:1;stroke-width:1;stroke-linecap:butt;stroke-linejoin:miter;stroke:rgb(0%,0%,0%);stroke-opacity:1;stroke-miterlimit:10;\" d=\"M 312.003906 32.695312 C 312.003906 38.21875 307.527344 42.695312 302.003906 42.695312 C 296.480469 42.695312 292.003906 38.21875 292.003906 32.695312 C 292.003906 27.171875 296.480469 22.695312 302.003906 22.695312 C 307.527344 22.695312 312.003906 27.171875 312.003906 32.695312 \"/>\n",
       "</g>\n",
       "</svg>\n"
      ],
      "text/plain": [
       "<igraph.drawing.Plot at 0x11bb709a0>"
      ]
     },
     "execution_count": 12,
     "metadata": {
      "image/svg+xml": {
       "isolated": true
      }
     },
     "output_type": "execute_result"
    }
   ],
   "source": [
    "layout = twitter.layout_kamada_kawai()\n",
    "plot(twitter, layout = layout)"
   ]
  },
  {
   "cell_type": "code",
   "execution_count": 13,
   "metadata": {
    "pycharm": {
     "name": "#%%\n"
    }
   },
   "outputs": [
    {
     "data": {
      "image/svg+xml": [
       "<?xml version=\"1.0\" encoding=\"UTF-8\"?>\n",
       "<svg xmlns=\"http://www.w3.org/2000/svg\" xmlns:xlink=\"http://www.w3.org/1999/xlink\" width=\"600pt\" height=\"600pt\" viewBox=\"0 0 600 600\" version=\"1.1\">\n",
       "<g id=\"surface8\">\n",
       "<rect x=\"0\" y=\"0\" width=\"600\" height=\"600\" style=\"fill:rgb(100%,100%,100%);fill-opacity:1;stroke:none;\"/>\n",
       "<path style=\" stroke:none;fill-rule:nonzero;fill:rgb(100%,0%,0%);fill-opacity:1;\" d=\"M 20 20 L 90 20 L 90 580 L 20 580 Z M 20 20 \"/>\n",
       "<path style=\" stroke:none;fill-rule:nonzero;fill:rgb(100%,0%,0%);fill-opacity:1;\" d=\"M 90 237.777344 L 160 237.777344 L 160 580 L 90 580 Z M 90 237.777344 \"/>\n",
       "<path style=\" stroke:none;fill-rule:nonzero;fill:rgb(100%,0%,0%);fill-opacity:1;\" d=\"M 160 455.554688 L 230 455.554688 L 230 580 L 160 580 Z M 160 455.554688 \"/>\n",
       "<path style=\" stroke:none;fill-rule:nonzero;fill:rgb(100%,0%,0%);fill-opacity:1;\" d=\"M 230 424.445312 L 300 424.445312 L 300 580 L 230 580 Z M 230 424.445312 \"/>\n",
       "<path style=\" stroke:none;fill-rule:nonzero;fill:rgb(100%,0%,0%);fill-opacity:1;\" d=\"M 300 517.777344 L 370 517.777344 L 370 580 L 300 580 Z M 300 517.777344 \"/>\n",
       "<path style=\" stroke:none;fill-rule:nonzero;fill:rgb(100%,0%,0%);fill-opacity:1;\" d=\"M 370 486.667969 L 440 486.667969 L 440 580 L 370 580 Z M 370 486.667969 \"/>\n",
       "<path style=\" stroke:none;fill-rule:nonzero;fill:rgb(100%,0%,0%);fill-opacity:1;\" d=\"M 510 548.890625 L 580 548.890625 L 580 580 L 510 580 Z M 510 548.890625 \"/>\n",
       "<path style=\"fill:none;stroke-width:1;stroke-linecap:butt;stroke-linejoin:miter;stroke:rgb(0%,0%,0%);stroke-opacity:1;stroke-miterlimit:10;\" d=\"M 20 20 L 580 20 L 580 580 L 20 580 Z M 20 20 \"/>\n",
       "</g>\n",
       "</svg>\n"
      ],
      "text/plain": [
       "<igraph.drawing.Plot at 0x11bb70400>"
      ]
     },
     "execution_count": 13,
     "metadata": {
      "image/svg+xml": {
       "isolated": true
      }
     },
     "output_type": "execute_result"
    }
   ],
   "source": [
    "dd_twitt = twitter.degree_distribution()\n",
    "igraph.plot(dd_twitt)"
   ]
  },
  {
   "cell_type": "code",
   "execution_count": null,
   "metadata": {
    "pycharm": {
     "name": "#%%\n"
    }
   },
   "outputs": [],
   "source": [
    "twitter_1M = igraph.Graph.Read_Ncol('twitter_0.csv',  directed=True)"
   ]
  },
  {
   "cell_type": "code",
   "execution_count": null,
   "metadata": {
    "pycharm": {
     "name": "#%%\n"
    }
   },
   "outputs": [],
   "source": [
    "igraph.summary(twitter_1M)"
   ]
  },
  {
   "cell_type": "code",
   "execution_count": null,
   "metadata": {
    "pycharm": {
     "name": "#%%\n"
    }
   },
   "outputs": [],
   "source": [
    "\n",
    "twitter_1M=igraph.Graph.Read_Ncol('twitter_1.csv',  directed=True)\n"
   ]
  },
  {
   "cell_type": "code",
   "execution_count": null,
   "metadata": {
    "pycharm": {
     "name": "#%%\n"
    }
   },
   "outputs": [],
   "source": [
    "igraph.summary(twitter_1M)"
   ]
  },
  {
   "cell_type": "code",
   "execution_count": null,
   "metadata": {
    "pycharm": {
     "name": "#%%\n"
    }
   },
   "outputs": [],
   "source": [
    "dd = twitter_1M.degree_distribution()\n"
   ]
  },
  {
   "cell_type": "code",
   "execution_count": null,
   "metadata": {
    "pycharm": {
     "name": "#%%\n"
    }
   },
   "outputs": [],
   "source": [
    "igraph.plot(dd)"
   ]
  },
  {
   "cell_type": "code",
   "execution_count": 55,
   "metadata": {
    "colab": {
     "base_uri": "https://localhost:8080/",
     "height": 324
    },
    "colab_type": "code",
    "id": "_Mu4ZX25ue_u",
    "outputId": "20ebebcf-f5f7-482f-faec-5bf83b0ff03c"
   },
   "outputs": [
    {
     "ename": "TypeError",
     "evalue": "ignored",
     "output_type": "error",
     "traceback": [
      "\u001B[0;31m---------------------------------------------------------------------------\u001B[0m",
      "\u001B[0;31mTypeError\u001B[0m                                 Traceback (most recent call last)",
      "\u001B[0;32m<ipython-input-55-e9a793c23932>\u001B[0m in \u001B[0;36m<module>\u001B[0;34m()\u001B[0m\n\u001B[1;32m      1\u001B[0m \u001B[0mlayout\u001B[0m \u001B[0;34m=\u001B[0m \u001B[0mtwitter\u001B[0m\u001B[0;34m.\u001B[0m\u001B[0mlayout_kamada_kawai\u001B[0m\u001B[0;34m(\u001B[0m\u001B[0;34m)\u001B[0m\u001B[0;34m\u001B[0m\u001B[0;34m\u001B[0m\u001B[0m\n\u001B[0;32m----> 2\u001B[0;31m \u001B[0mplot\u001B[0m\u001B[0;34m(\u001B[0m\u001B[0mtwitter\u001B[0m\u001B[0;34m,\u001B[0m \u001B[0mlayout\u001B[0m \u001B[0;34m=\u001B[0m \u001B[0mlayout\u001B[0m\u001B[0;34m)\u001B[0m\u001B[0;34m\u001B[0m\u001B[0;34m\u001B[0m\u001B[0m\n\u001B[0m",
      "\u001B[0;32m/usr/local/lib/python3.6/dist-packages/igraph/drawing/__init__.py\u001B[0m in \u001B[0;36mplot\u001B[0;34m(obj, target, bbox, *args, **kwds)\u001B[0m\n\u001B[1;32m    453\u001B[0m         \u001B[0mbbox\u001B[0m \u001B[0;34m=\u001B[0m \u001B[0mBoundingBox\u001B[0m\u001B[0;34m(\u001B[0m\u001B[0mbbox\u001B[0m\u001B[0;34m)\u001B[0m\u001B[0;34m\u001B[0m\u001B[0;34m\u001B[0m\u001B[0m\n\u001B[1;32m    454\u001B[0m \u001B[0;34m\u001B[0m\u001B[0m\n\u001B[0;32m--> 455\u001B[0;31m     \u001B[0mresult\u001B[0m \u001B[0;34m=\u001B[0m \u001B[0mPlot\u001B[0m\u001B[0;34m(\u001B[0m\u001B[0mtarget\u001B[0m\u001B[0;34m,\u001B[0m \u001B[0mbbox\u001B[0m\u001B[0;34m,\u001B[0m \u001B[0mbackground\u001B[0m\u001B[0;34m=\u001B[0m\u001B[0mkwds\u001B[0m\u001B[0;34m.\u001B[0m\u001B[0mget\u001B[0m\u001B[0;34m(\u001B[0m\u001B[0;34m\"background\"\u001B[0m\u001B[0;34m,\u001B[0m \u001B[0;34m\"white\"\u001B[0m\u001B[0;34m)\u001B[0m\u001B[0;34m)\u001B[0m\u001B[0;34m\u001B[0m\u001B[0;34m\u001B[0m\u001B[0m\n\u001B[0m\u001B[1;32m    456\u001B[0m \u001B[0;34m\u001B[0m\u001B[0m\n\u001B[1;32m    457\u001B[0m     \u001B[0;32mif\u001B[0m \u001B[0;34m\"margin\"\u001B[0m \u001B[0;32min\u001B[0m \u001B[0mkwds\u001B[0m\u001B[0;34m:\u001B[0m\u001B[0;34m\u001B[0m\u001B[0;34m\u001B[0m\u001B[0m\n",
      "\u001B[0;32m/usr/local/lib/python3.6/dist-packages/igraph/drawing/__init__.py\u001B[0m in \u001B[0;36m__init__\u001B[0;34m(self, target, bbox, palette, background)\u001B[0m\n\u001B[1;32m    118\u001B[0m         \"\"\"\n\u001B[1;32m    119\u001B[0m         \u001B[0mself\u001B[0m\u001B[0;34m.\u001B[0m\u001B[0m_filename\u001B[0m \u001B[0;34m=\u001B[0m \u001B[0;32mNone\u001B[0m\u001B[0;34m\u001B[0m\u001B[0;34m\u001B[0m\u001B[0m\n\u001B[0;32m--> 120\u001B[0;31m         \u001B[0mself\u001B[0m\u001B[0;34m.\u001B[0m\u001B[0m_surface_was_created\u001B[0m \u001B[0;34m=\u001B[0m \u001B[0;32mnot\u001B[0m \u001B[0misinstance\u001B[0m\u001B[0;34m(\u001B[0m\u001B[0mtarget\u001B[0m\u001B[0;34m,\u001B[0m \u001B[0mcairo\u001B[0m\u001B[0;34m.\u001B[0m\u001B[0mSurface\u001B[0m\u001B[0;34m)\u001B[0m\u001B[0;34m\u001B[0m\u001B[0;34m\u001B[0m\u001B[0m\n\u001B[0m\u001B[1;32m    121\u001B[0m         \u001B[0mself\u001B[0m\u001B[0;34m.\u001B[0m\u001B[0m_need_tmpfile\u001B[0m \u001B[0;34m=\u001B[0m \u001B[0;32mFalse\u001B[0m\u001B[0;34m\u001B[0m\u001B[0;34m\u001B[0m\u001B[0m\n\u001B[1;32m    122\u001B[0m \u001B[0;34m\u001B[0m\u001B[0m\n",
      "\u001B[0;32m/usr/local/lib/python3.6/dist-packages/igraph/drawing/utils.py\u001B[0m in \u001B[0;36m__getattr__\u001B[0;34m(self, _)\u001B[0m\n\u001B[1;32m    394\u001B[0m \u001B[0;34m\u001B[0m\u001B[0m\n\u001B[1;32m    395\u001B[0m     \u001B[0;32mdef\u001B[0m \u001B[0m__getattr__\u001B[0m\u001B[0;34m(\u001B[0m\u001B[0mself\u001B[0m\u001B[0;34m,\u001B[0m \u001B[0m_\u001B[0m\u001B[0;34m)\u001B[0m\u001B[0;34m:\u001B[0m\u001B[0;34m\u001B[0m\u001B[0;34m\u001B[0m\u001B[0m\n\u001B[0;32m--> 396\u001B[0;31m         \u001B[0;32mraise\u001B[0m \u001B[0mTypeError\u001B[0m\u001B[0;34m(\u001B[0m\u001B[0;34m\"plotting not available\"\u001B[0m\u001B[0;34m)\u001B[0m\u001B[0;34m\u001B[0m\u001B[0;34m\u001B[0m\u001B[0m\n\u001B[0m\u001B[1;32m    397\u001B[0m     \u001B[0;32mdef\u001B[0m \u001B[0m__call__\u001B[0m\u001B[0;34m(\u001B[0m\u001B[0mself\u001B[0m\u001B[0;34m,\u001B[0m \u001B[0m_\u001B[0m\u001B[0;34m)\u001B[0m\u001B[0;34m:\u001B[0m\u001B[0;34m\u001B[0m\u001B[0;34m\u001B[0m\u001B[0m\n\u001B[1;32m    398\u001B[0m         \u001B[0;32mraise\u001B[0m \u001B[0mTypeError\u001B[0m\u001B[0;34m(\u001B[0m\u001B[0;34m\"plotting not available\"\u001B[0m\u001B[0;34m)\u001B[0m\u001B[0;34m\u001B[0m\u001B[0;34m\u001B[0m\u001B[0m\n",
      "\u001B[0;31mTypeError\u001B[0m: plotting not available"
     ]
    }
   ],
   "source": [
    "igraph.plot(dd)"
   ]
  },
  {
   "cell_type": "code",
   "execution_count": 42,
   "metadata": {
    "colab": {
     "base_uri": "https://localhost:8080/",
     "height": 324
    },
    "colab_type": "code",
    "id": "dzTlusUXss8L",
    "outputId": "131c24f3-d5d8-4698-e197-0efd0e0bc315"
   },
   "outputs": [
    {
     "ename": "TypeError",
     "evalue": "ignored",
     "output_type": "error",
     "traceback": [
      "\u001B[0;31m---------------------------------------------------------------------------\u001B[0m",
      "\u001B[0;31mTypeError\u001B[0m                                 Traceback (most recent call last)",
      "\u001B[0;32m<ipython-input-42-bb8c2ad2e5d8>\u001B[0m in \u001B[0;36m<module>\u001B[0;34m()\u001B[0m\n\u001B[1;32m      1\u001B[0m \u001B[0mdd_twitt\u001B[0m \u001B[0;34m=\u001B[0m \u001B[0mtwitter\u001B[0m\u001B[0;34m.\u001B[0m\u001B[0mdegree_distribution\u001B[0m\u001B[0;34m(\u001B[0m\u001B[0;34m)\u001B[0m\u001B[0;34m\u001B[0m\u001B[0;34m\u001B[0m\u001B[0m\n\u001B[0;32m----> 2\u001B[0;31m \u001B[0migraph\u001B[0m\u001B[0;34m.\u001B[0m\u001B[0mplot\u001B[0m\u001B[0;34m(\u001B[0m\u001B[0mdd_twitt\u001B[0m\u001B[0;34m)\u001B[0m\u001B[0;34m\u001B[0m\u001B[0;34m\u001B[0m\u001B[0m\n\u001B[0m",
      "\u001B[0;32m/usr/local/lib/python3.6/dist-packages/igraph/drawing/__init__.py\u001B[0m in \u001B[0;36mplot\u001B[0;34m(obj, target, bbox, *args, **kwds)\u001B[0m\n\u001B[1;32m    453\u001B[0m         \u001B[0mbbox\u001B[0m \u001B[0;34m=\u001B[0m \u001B[0mBoundingBox\u001B[0m\u001B[0;34m(\u001B[0m\u001B[0mbbox\u001B[0m\u001B[0;34m)\u001B[0m\u001B[0;34m\u001B[0m\u001B[0;34m\u001B[0m\u001B[0m\n\u001B[1;32m    454\u001B[0m \u001B[0;34m\u001B[0m\u001B[0m\n\u001B[0;32m--> 455\u001B[0;31m     \u001B[0mresult\u001B[0m \u001B[0;34m=\u001B[0m \u001B[0mPlot\u001B[0m\u001B[0;34m(\u001B[0m\u001B[0mtarget\u001B[0m\u001B[0;34m,\u001B[0m \u001B[0mbbox\u001B[0m\u001B[0;34m,\u001B[0m \u001B[0mbackground\u001B[0m\u001B[0;34m=\u001B[0m\u001B[0mkwds\u001B[0m\u001B[0;34m.\u001B[0m\u001B[0mget\u001B[0m\u001B[0;34m(\u001B[0m\u001B[0;34m\"background\"\u001B[0m\u001B[0;34m,\u001B[0m \u001B[0;34m\"white\"\u001B[0m\u001B[0;34m)\u001B[0m\u001B[0;34m)\u001B[0m\u001B[0;34m\u001B[0m\u001B[0;34m\u001B[0m\u001B[0m\n\u001B[0m\u001B[1;32m    456\u001B[0m \u001B[0;34m\u001B[0m\u001B[0m\n\u001B[1;32m    457\u001B[0m     \u001B[0;32mif\u001B[0m \u001B[0;34m\"margin\"\u001B[0m \u001B[0;32min\u001B[0m \u001B[0mkwds\u001B[0m\u001B[0;34m:\u001B[0m\u001B[0;34m\u001B[0m\u001B[0;34m\u001B[0m\u001B[0m\n",
      "\u001B[0;32m/usr/local/lib/python3.6/dist-packages/igraph/drawing/__init__.py\u001B[0m in \u001B[0;36m__init__\u001B[0;34m(self, target, bbox, palette, background)\u001B[0m\n\u001B[1;32m    118\u001B[0m         \"\"\"\n\u001B[1;32m    119\u001B[0m         \u001B[0mself\u001B[0m\u001B[0;34m.\u001B[0m\u001B[0m_filename\u001B[0m \u001B[0;34m=\u001B[0m \u001B[0;32mNone\u001B[0m\u001B[0;34m\u001B[0m\u001B[0;34m\u001B[0m\u001B[0m\n\u001B[0;32m--> 120\u001B[0;31m         \u001B[0mself\u001B[0m\u001B[0;34m.\u001B[0m\u001B[0m_surface_was_created\u001B[0m \u001B[0;34m=\u001B[0m \u001B[0;32mnot\u001B[0m \u001B[0misinstance\u001B[0m\u001B[0;34m(\u001B[0m\u001B[0mtarget\u001B[0m\u001B[0;34m,\u001B[0m \u001B[0mcairo\u001B[0m\u001B[0;34m.\u001B[0m\u001B[0mSurface\u001B[0m\u001B[0;34m)\u001B[0m\u001B[0;34m\u001B[0m\u001B[0;34m\u001B[0m\u001B[0m\n\u001B[0m\u001B[1;32m    121\u001B[0m         \u001B[0mself\u001B[0m\u001B[0;34m.\u001B[0m\u001B[0m_need_tmpfile\u001B[0m \u001B[0;34m=\u001B[0m \u001B[0;32mFalse\u001B[0m\u001B[0;34m\u001B[0m\u001B[0;34m\u001B[0m\u001B[0m\n\u001B[1;32m    122\u001B[0m \u001B[0;34m\u001B[0m\u001B[0m\n",
      "\u001B[0;32m/usr/local/lib/python3.6/dist-packages/igraph/drawing/utils.py\u001B[0m in \u001B[0;36m__getattr__\u001B[0;34m(self, _)\u001B[0m\n\u001B[1;32m    394\u001B[0m \u001B[0;34m\u001B[0m\u001B[0m\n\u001B[1;32m    395\u001B[0m     \u001B[0;32mdef\u001B[0m \u001B[0m__getattr__\u001B[0m\u001B[0;34m(\u001B[0m\u001B[0mself\u001B[0m\u001B[0;34m,\u001B[0m \u001B[0m_\u001B[0m\u001B[0;34m)\u001B[0m\u001B[0;34m:\u001B[0m\u001B[0;34m\u001B[0m\u001B[0;34m\u001B[0m\u001B[0m\n\u001B[0;32m--> 396\u001B[0;31m         \u001B[0;32mraise\u001B[0m \u001B[0mTypeError\u001B[0m\u001B[0;34m(\u001B[0m\u001B[0;34m\"plotting not available\"\u001B[0m\u001B[0;34m)\u001B[0m\u001B[0;34m\u001B[0m\u001B[0;34m\u001B[0m\u001B[0m\n\u001B[0m\u001B[1;32m    397\u001B[0m     \u001B[0;32mdef\u001B[0m \u001B[0m__call__\u001B[0m\u001B[0;34m(\u001B[0m\u001B[0mself\u001B[0m\u001B[0;34m,\u001B[0m \u001B[0m_\u001B[0m\u001B[0;34m)\u001B[0m\u001B[0;34m:\u001B[0m\u001B[0;34m\u001B[0m\u001B[0;34m\u001B[0m\u001B[0m\n\u001B[1;32m    398\u001B[0m         \u001B[0;32mraise\u001B[0m \u001B[0mTypeError\u001B[0m\u001B[0;34m(\u001B[0m\u001B[0;34m\"plotting not available\"\u001B[0m\u001B[0;34m)\u001B[0m\u001B[0;34m\u001B[0m\u001B[0;34m\u001B[0m\u001B[0m\n",
      "\u001B[0;31mTypeError\u001B[0m: plotting not available"
     ]
    }
   ],
   "source": [
    "dd_twitt = twitter.degree_distribution()\n",
    "igraph.plot(dd_twitt)"
   ]
  },
  {
   "cell_type": "code",
   "execution_count": 0,
   "metadata": {
    "colab": {},
    "colab_type": "code",
    "id": "JGmU6DG8IIK_"
   },
   "outputs": [],
   "source": [
    "twitter_1M = igraph.Graph.Read_Ncol('twitter_0.csv',  directed=True)"
   ]
  },
  {
   "cell_type": "code",
   "execution_count": 24,
   "metadata": {
    "colab": {
     "base_uri": "https://localhost:8080/",
     "height": 51
    },
    "colab_type": "code",
    "id": "aTNFNwr4bOBZ",
    "outputId": "4e76ba42-048c-44ae-b998-30f816bbd669"
   },
   "outputs": [
    {
     "name": "stdout",
     "output_type": "stream",
     "text": [
      "IGRAPH DN-- 5941842 10000001 -- \n",
      "+ attr: name (v)\n"
     ]
    }
   ],
   "source": [
    "igraph.summary(twitter_1M)"
   ]
  },
  {
   "cell_type": "code",
   "execution_count": 0,
   "metadata": {
    "colab": {},
    "colab_type": "code",
    "id": "m_rtvCveJHBN"
   },
   "outputs": [],
   "source": [
    "\n",
    "twitter_1M=igraph.Graph.Read_Ncol('twitter_1.csv',  directed=True)\n"
   ]
  },
  {
   "cell_type": "code",
   "execution_count": 26,
   "metadata": {
    "colab": {
     "base_uri": "https://localhost:8080/",
     "height": 51
    },
    "colab_type": "code",
    "id": "YOFnr7bViF_U",
    "outputId": "5d2bd8d0-9f9a-4fd0-de56-de743cb52170"
   },
   "outputs": [
    {
     "name": "stdout",
     "output_type": "stream",
     "text": [
      "IGRAPH DN-- 5538891 10000000 -- \n",
      "+ attr: name (v)\n"
     ]
    }
   ],
   "source": [
    "igraph.summary(twitter_1M)"
   ]
  },
  {
   "cell_type": "code",
   "execution_count": 0,
   "metadata": {
    "colab": {},
    "colab_type": "code",
    "id": "HgKJXLzCjOEL"
   },
   "outputs": [],
   "source": [
    "dd = twitter_1M.degree_distribution()\n"
   ]
  },
  {
   "cell_type": "code",
   "execution_count": 41,
   "metadata": {
    "colab": {
     "base_uri": "https://localhost:8080/",
     "height": 307
    },
    "colab_type": "code",
    "id": "DnDQ49RRkZWF",
    "outputId": "748a8721-5e27-411d-bd45-84c405978033"
   },
   "outputs": [
    {
     "ename": "TypeError",
     "evalue": "ignored",
     "output_type": "error",
     "traceback": [
      "\u001B[0;31m---------------------------------------------------------------------------\u001B[0m",
      "\u001B[0;31mTypeError\u001B[0m                                 Traceback (most recent call last)",
      "\u001B[0;32m<ipython-input-41-f870aa6e10ca>\u001B[0m in \u001B[0;36m<module>\u001B[0;34m()\u001B[0m\n\u001B[0;32m----> 1\u001B[0;31m \u001B[0migraph\u001B[0m\u001B[0;34m.\u001B[0m\u001B[0mplot\u001B[0m\u001B[0;34m(\u001B[0m\u001B[0mdd\u001B[0m\u001B[0;34m)\u001B[0m\u001B[0;34m\u001B[0m\u001B[0;34m\u001B[0m\u001B[0m\n\u001B[0m",
      "\u001B[0;32m/usr/local/lib/python3.6/dist-packages/igraph/drawing/__init__.py\u001B[0m in \u001B[0;36mplot\u001B[0;34m(obj, target, bbox, *args, **kwds)\u001B[0m\n\u001B[1;32m    453\u001B[0m         \u001B[0mbbox\u001B[0m \u001B[0;34m=\u001B[0m \u001B[0mBoundingBox\u001B[0m\u001B[0;34m(\u001B[0m\u001B[0mbbox\u001B[0m\u001B[0;34m)\u001B[0m\u001B[0;34m\u001B[0m\u001B[0;34m\u001B[0m\u001B[0m\n\u001B[1;32m    454\u001B[0m \u001B[0;34m\u001B[0m\u001B[0m\n\u001B[0;32m--> 455\u001B[0;31m     \u001B[0mresult\u001B[0m \u001B[0;34m=\u001B[0m \u001B[0mPlot\u001B[0m\u001B[0;34m(\u001B[0m\u001B[0mtarget\u001B[0m\u001B[0;34m,\u001B[0m \u001B[0mbbox\u001B[0m\u001B[0;34m,\u001B[0m \u001B[0mbackground\u001B[0m\u001B[0;34m=\u001B[0m\u001B[0mkwds\u001B[0m\u001B[0;34m.\u001B[0m\u001B[0mget\u001B[0m\u001B[0;34m(\u001B[0m\u001B[0;34m\"background\"\u001B[0m\u001B[0;34m,\u001B[0m \u001B[0;34m\"white\"\u001B[0m\u001B[0;34m)\u001B[0m\u001B[0;34m)\u001B[0m\u001B[0;34m\u001B[0m\u001B[0;34m\u001B[0m\u001B[0m\n\u001B[0m\u001B[1;32m    456\u001B[0m \u001B[0;34m\u001B[0m\u001B[0m\n\u001B[1;32m    457\u001B[0m     \u001B[0;32mif\u001B[0m \u001B[0;34m\"margin\"\u001B[0m \u001B[0;32min\u001B[0m \u001B[0mkwds\u001B[0m\u001B[0;34m:\u001B[0m\u001B[0;34m\u001B[0m\u001B[0;34m\u001B[0m\u001B[0m\n",
      "\u001B[0;32m/usr/local/lib/python3.6/dist-packages/igraph/drawing/__init__.py\u001B[0m in \u001B[0;36m__init__\u001B[0;34m(self, target, bbox, palette, background)\u001B[0m\n\u001B[1;32m    118\u001B[0m         \"\"\"\n\u001B[1;32m    119\u001B[0m         \u001B[0mself\u001B[0m\u001B[0;34m.\u001B[0m\u001B[0m_filename\u001B[0m \u001B[0;34m=\u001B[0m \u001B[0;32mNone\u001B[0m\u001B[0;34m\u001B[0m\u001B[0;34m\u001B[0m\u001B[0m\n\u001B[0;32m--> 120\u001B[0;31m         \u001B[0mself\u001B[0m\u001B[0;34m.\u001B[0m\u001B[0m_surface_was_created\u001B[0m \u001B[0;34m=\u001B[0m \u001B[0;32mnot\u001B[0m \u001B[0misinstance\u001B[0m\u001B[0;34m(\u001B[0m\u001B[0mtarget\u001B[0m\u001B[0;34m,\u001B[0m \u001B[0mcairo\u001B[0m\u001B[0;34m.\u001B[0m\u001B[0mSurface\u001B[0m\u001B[0;34m)\u001B[0m\u001B[0;34m\u001B[0m\u001B[0;34m\u001B[0m\u001B[0m\n\u001B[0m\u001B[1;32m    121\u001B[0m         \u001B[0mself\u001B[0m\u001B[0;34m.\u001B[0m\u001B[0m_need_tmpfile\u001B[0m \u001B[0;34m=\u001B[0m \u001B[0;32mFalse\u001B[0m\u001B[0;34m\u001B[0m\u001B[0;34m\u001B[0m\u001B[0m\n\u001B[1;32m    122\u001B[0m \u001B[0;34m\u001B[0m\u001B[0m\n",
      "\u001B[0;32m/usr/local/lib/python3.6/dist-packages/igraph/drawing/utils.py\u001B[0m in \u001B[0;36m__getattr__\u001B[0;34m(self, _)\u001B[0m\n\u001B[1;32m    394\u001B[0m \u001B[0;34m\u001B[0m\u001B[0m\n\u001B[1;32m    395\u001B[0m     \u001B[0;32mdef\u001B[0m \u001B[0m__getattr__\u001B[0m\u001B[0;34m(\u001B[0m\u001B[0mself\u001B[0m\u001B[0;34m,\u001B[0m \u001B[0m_\u001B[0m\u001B[0;34m)\u001B[0m\u001B[0;34m:\u001B[0m\u001B[0;34m\u001B[0m\u001B[0;34m\u001B[0m\u001B[0m\n\u001B[0;32m--> 396\u001B[0;31m         \u001B[0;32mraise\u001B[0m \u001B[0mTypeError\u001B[0m\u001B[0;34m(\u001B[0m\u001B[0;34m\"plotting not available\"\u001B[0m\u001B[0;34m)\u001B[0m\u001B[0;34m\u001B[0m\u001B[0;34m\u001B[0m\u001B[0m\n\u001B[0m\u001B[1;32m    397\u001B[0m     \u001B[0;32mdef\u001B[0m \u001B[0m__call__\u001B[0m\u001B[0;34m(\u001B[0m\u001B[0mself\u001B[0m\u001B[0;34m,\u001B[0m \u001B[0m_\u001B[0m\u001B[0;34m)\u001B[0m\u001B[0;34m:\u001B[0m\u001B[0;34m\u001B[0m\u001B[0;34m\u001B[0m\u001B[0m\n\u001B[1;32m    398\u001B[0m         \u001B[0;32mraise\u001B[0m \u001B[0mTypeError\u001B[0m\u001B[0;34m(\u001B[0m\u001B[0;34m\"plotting not available\"\u001B[0m\u001B[0;34m)\u001B[0m\u001B[0;34m\u001B[0m\u001B[0;34m\u001B[0m\u001B[0m\n",
      "\u001B[0;31mTypeError\u001B[0m: plotting not available"
     ]
    }
   ],
   "source": [
    "igraph.plot(dd)"
   ]
  }
 ],
 "metadata": {
  "colab": {
   "authorship_tag": "ABX9TyNUoAkAxrHB8IEbLzCnWMli",
   "collapsed_sections": [],
   "include_colab_link": true,
   "name": "test_igraph2.ipynb",
   "provenance": []
  },
  "kernelspec": {
   "display_name": "Python 3",
   "language": "python",
   "name": "python3"
  },
  "language_info": {
   "codemirror_mode": {
    "name": "ipython",
    "version": 3
   },
   "file_extension": ".py",
   "mimetype": "text/x-python",
   "name": "python",
   "nbconvert_exporter": "python",
   "pygments_lexer": "ipython3",
   "version": "3.8.2"
  }
 },
 "nbformat": 4,
 "nbformat_minor": 1
}