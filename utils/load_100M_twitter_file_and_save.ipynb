{
  "nbformat": 4,
  "nbformat_minor": 0,
  "metadata": {
    "colab": {
      "name": "Untitled",
      "provenance": [],
      "machine_shape": "hm",
      "include_colab_link": true
    },
    "kernelspec": {
      "name": "python3",
      "display_name": "Python 3"
    }
  },
  "cells": [
    {
      "cell_type": "markdown",
      "metadata": {
        "id": "view-in-github",
        "colab_type": "text"
      },
      "source": [
        "<a href=\"https://colab.research.google.com/github/mordor-ai/M1MIASHS_projet_twitter/blob/master/utils/load_100M_twitter_file_and_save.ipynb\" target=\"_parent\"><img src=\"https://colab.research.google.com/assets/colab-badge.svg\" alt=\"Open In Colab\"/></a>"
      ]
    },
    {
      "cell_type": "code",
      "metadata": {
        "id": "iPzsqLDKj41w",
        "colab_type": "code",
        "outputId": "a6eb51ed-5a02-4f60-84e5-dee5248ed0e5",
        "colab": {
          "base_uri": "https://localhost:8080/",
          "height": 666
        }
      },
      "source": [
        "!apt-get install libcairo2-dev"
      ],
      "execution_count": 1,
      "outputs": [
        {
          "output_type": "stream",
          "text": [
            "Reading package lists... Done\n",
            "Building dependency tree       \n",
            "Reading state information... Done\n",
            "The following additional packages will be installed:\n",
            "  libcairo-script-interpreter2 libpixman-1-dev libxcb-shm0-dev\n",
            "Suggested packages:\n",
            "  libcairo2-doc\n",
            "The following NEW packages will be installed:\n",
            "  libcairo-script-interpreter2 libcairo2-dev libpixman-1-dev libxcb-shm0-dev\n",
            "0 upgraded, 4 newly installed, 0 to remove and 29 not upgraded.\n",
            "Need to get 930 kB of archives.\n",
            "After this operation, 3,986 kB of additional disk space will be used.\n",
            "Get:1 http://archive.ubuntu.com/ubuntu bionic-updates/main amd64 libcairo-script-interpreter2 amd64 1.15.10-2ubuntu0.1 [53.5 kB]\n",
            "Get:2 http://archive.ubuntu.com/ubuntu bionic/main amd64 libpixman-1-dev amd64 0.34.0-2 [244 kB]\n",
            "Get:3 http://archive.ubuntu.com/ubuntu bionic-updates/main amd64 libxcb-shm0-dev amd64 1.13-2~ubuntu18.04 [6,684 B]\n",
            "Get:4 http://archive.ubuntu.com/ubuntu bionic-updates/main amd64 libcairo2-dev amd64 1.15.10-2ubuntu0.1 [626 kB]\n",
            "Fetched 930 kB in 1s (1,008 kB/s)\n",
            "Selecting previously unselected package libcairo-script-interpreter2:amd64.\n",
            "(Reading database ... 144429 files and directories currently installed.)\n",
            "Preparing to unpack .../libcairo-script-interpreter2_1.15.10-2ubuntu0.1_amd64.deb ...\n",
            "Unpacking libcairo-script-interpreter2:amd64 (1.15.10-2ubuntu0.1) ...\n",
            "Selecting previously unselected package libpixman-1-dev:amd64.\n",
            "Preparing to unpack .../libpixman-1-dev_0.34.0-2_amd64.deb ...\n",
            "Unpacking libpixman-1-dev:amd64 (0.34.0-2) ...\n",
            "Selecting previously unselected package libxcb-shm0-dev:amd64.\n",
            "Preparing to unpack .../libxcb-shm0-dev_1.13-2~ubuntu18.04_amd64.deb ...\n",
            "Unpacking libxcb-shm0-dev:amd64 (1.13-2~ubuntu18.04) ...\n",
            "Selecting previously unselected package libcairo2-dev:amd64.\n",
            "Preparing to unpack .../libcairo2-dev_1.15.10-2ubuntu0.1_amd64.deb ...\n",
            "Unpacking libcairo2-dev:amd64 (1.15.10-2ubuntu0.1) ...\n",
            "Setting up libcairo-script-interpreter2:amd64 (1.15.10-2ubuntu0.1) ...\n",
            "Setting up libxcb-shm0-dev:amd64 (1.13-2~ubuntu18.04) ...\n",
            "Setting up libpixman-1-dev:amd64 (0.34.0-2) ...\n",
            "Setting up libcairo2-dev:amd64 (1.15.10-2ubuntu0.1) ...\n",
            "Processing triggers for libc-bin (2.27-3ubuntu1) ...\n",
            "/sbin/ldconfig.real: /usr/local/lib/python3.6/dist-packages/ideep4py/lib/libmkldnn.so.0 is not a symbolic link\n",
            "\n"
          ],
          "name": "stdout"
        }
      ]
    },
    {
      "cell_type": "code",
      "metadata": {
        "id": "DaupgPzyJMr2",
        "colab_type": "code",
        "outputId": "defb26e9-31b3-4ee7-ba48-8e7ed444ac5b",
        "colab": {
          "base_uri": "https://localhost:8080/",
          "height": 1000
        }
      },
      "source": [
        "!pip install python-igraph\n",
        "!pip install pycairo\n",
        "!pip install twint"
      ],
      "execution_count": 2,
      "outputs": [
        {
          "output_type": "stream",
          "text": [
            "Collecting python-igraph\n",
            "\u001b[?25l  Downloading https://files.pythonhosted.org/packages/8b/74/24a1afbf3abaf1d5f393b668192888d04091d1a6d106319661cd4af05406/python_igraph-0.8.2-cp36-cp36m-manylinux2010_x86_64.whl (3.2MB)\n",
            "\u001b[K     |████████████████████████████████| 3.2MB 3.4MB/s \n",
            "\u001b[?25hCollecting texttable>=1.6.2\n",
            "  Downloading https://files.pythonhosted.org/packages/ec/b1/8a1c659ce288bf771d5b1c7cae318ada466f73bd0e16df8d86f27a2a3ee7/texttable-1.6.2-py2.py3-none-any.whl\n",
            "Installing collected packages: texttable, python-igraph\n",
            "Successfully installed python-igraph-0.8.2 texttable-1.6.2\n",
            "Collecting pycairo\n",
            "\u001b[?25l  Downloading https://files.pythonhosted.org/packages/e8/9d/c8be300fc6b1298559d37a071c3833b0b251e0fff334d2e4c408d5789162/pycairo-1.19.1.tar.gz (205kB)\n",
            "\u001b[K     |████████████████████████████████| 215kB 3.3MB/s \n",
            "\u001b[?25hBuilding wheels for collected packages: pycairo\n",
            "  Building wheel for pycairo (setup.py) ... \u001b[?25l\u001b[?25hdone\n",
            "  Created wheel for pycairo: filename=pycairo-1.19.1-cp36-cp36m-linux_x86_64.whl size=241216 sha256=06bf8c21de732440e78c8bc03e429579c5303ff2b9a584e3829b246612aab8b1\n",
            "  Stored in directory: /root/.cache/pip/wheels/34/08/71/ef11d2526c2cb17a581088a89dfe1258f17c911e55ebde0550\n",
            "Successfully built pycairo\n",
            "Installing collected packages: pycairo\n",
            "Successfully installed pycairo-1.19.1\n",
            "Collecting twint\n",
            "  Downloading https://files.pythonhosted.org/packages/69/e1/4daa62fbae8a34558015c227a8274bb2598e0fc6e330bdeb8484ed154ce7/twint-2.1.20.tar.gz\n",
            "Collecting aiohttp\n",
            "\u001b[?25l  Downloading https://files.pythonhosted.org/packages/7c/39/7eb5f98d24904e0f6d3edb505d4aa60e3ef83c0a58d6fe18244a51757247/aiohttp-3.6.2-cp36-cp36m-manylinux1_x86_64.whl (1.2MB)\n",
            "\u001b[K     |████████████████████████████████| 1.2MB 9.8MB/s \n",
            "\u001b[?25hCollecting aiodns\n",
            "  Downloading https://files.pythonhosted.org/packages/da/01/8f2d49b441573fd2478833bdba91cf0b853b4c750a1fbb9e98de1b94bb22/aiodns-2.0.0-py2.py3-none-any.whl\n",
            "Requirement already satisfied: beautifulsoup4 in /usr/local/lib/python3.6/dist-packages (from twint) (4.6.3)\n",
            "Collecting cchardet\n",
            "\u001b[?25l  Downloading https://files.pythonhosted.org/packages/1e/c5/7e1a0d7b4afd83d6f8de794fce82820ec4c5136c6d52e14000822681a842/cchardet-2.1.6-cp36-cp36m-manylinux2010_x86_64.whl (241kB)\n",
            "\u001b[K     |████████████████████████████████| 245kB 42.6MB/s \n",
            "\u001b[?25hCollecting elasticsearch\n",
            "\u001b[?25l  Downloading https://files.pythonhosted.org/packages/cc/cf/7973ac58090b960857da04add0b345415bf1e1741beddf4cbe136b8ad174/elasticsearch-7.6.0-py2.py3-none-any.whl (88kB)\n",
            "\u001b[K     |████████████████████████████████| 92kB 10.3MB/s \n",
            "\u001b[?25hRequirement already satisfied: pysocks in /usr/local/lib/python3.6/dist-packages (from twint) (1.7.1)\n",
            "Requirement already satisfied: pandas in /usr/local/lib/python3.6/dist-packages (from twint) (1.0.3)\n",
            "Collecting aiohttp_socks\n",
            "  Downloading https://files.pythonhosted.org/packages/06/28/67fcf0de9046f98052a30e0d8dc2529d8662b18f78b92eea42d7048a5e80/aiohttp_socks-0.3.9-py3-none-any.whl\n",
            "Collecting schedule\n",
            "  Downloading https://files.pythonhosted.org/packages/57/22/3a709462eb02412bd1145f6e53604f36bba191e3e4e397bea4a718fec38c/schedule-0.6.0-py2.py3-none-any.whl\n",
            "Requirement already satisfied: geopy in /usr/local/lib/python3.6/dist-packages (from twint) (1.17.0)\n",
            "Collecting fake-useragent\n",
            "  Downloading https://files.pythonhosted.org/packages/d1/79/af647635d6968e2deb57a208d309f6069d31cb138066d7e821e575112a80/fake-useragent-0.1.11.tar.gz\n",
            "Collecting googletransx\n",
            "  Downloading https://files.pythonhosted.org/packages/27/e1/77cd530afec7944d40c5bdd260bcc111be4012b045c82d4e3ffec90b2a42/googletransx-2.4.2.tar.gz\n",
            "Collecting yarl<2.0,>=1.0\n",
            "\u001b[?25l  Downloading https://files.pythonhosted.org/packages/95/8f/0209fc5d975f839344c33c822ff2f7ef80f6b1e984673a5a68f960bfa583/yarl-1.4.2-cp36-cp36m-manylinux1_x86_64.whl (252kB)\n",
            "\u001b[K     |████████████████████████████████| 256kB 55.9MB/s \n",
            "\u001b[?25hCollecting multidict<5.0,>=4.5\n",
            "\u001b[?25l  Downloading https://files.pythonhosted.org/packages/30/2e/3ab2f1fb72571f75013db323a3799d505d99f3bc203513604f1ffb9b7858/multidict-4.7.5-cp36-cp36m-manylinux1_x86_64.whl (148kB)\n",
            "\u001b[K     |████████████████████████████████| 153kB 56.9MB/s \n",
            "\u001b[?25hRequirement already satisfied: typing-extensions>=3.6.5; python_version < \"3.7\" in /usr/local/lib/python3.6/dist-packages (from aiohttp->twint) (3.6.6)\n",
            "Collecting idna-ssl>=1.0; python_version < \"3.7\"\n",
            "  Downloading https://files.pythonhosted.org/packages/46/03/07c4894aae38b0de52b52586b24bf189bb83e4ddabfe2e2c8f2419eec6f4/idna-ssl-1.1.0.tar.gz\n",
            "Collecting async-timeout<4.0,>=3.0\n",
            "  Downloading https://files.pythonhosted.org/packages/e1/1e/5a4441be21b0726c4464f3f23c8b19628372f606755a9d2e46c187e65ec4/async_timeout-3.0.1-py3-none-any.whl\n",
            "Requirement already satisfied: chardet<4.0,>=2.0 in /usr/local/lib/python3.6/dist-packages (from aiohttp->twint) (3.0.4)\n",
            "Requirement already satisfied: attrs>=17.3.0 in /usr/local/lib/python3.6/dist-packages (from aiohttp->twint) (19.3.0)\n",
            "Collecting pycares>=3.0.0\n",
            "\u001b[?25l  Downloading https://files.pythonhosted.org/packages/43/2d/7f4984a23f6e99cf6a8b20ddc59308efb209fe81e79c97af65e9b30eefae/pycares-3.1.1-cp36-cp36m-manylinux2010_x86_64.whl (228kB)\n",
            "\u001b[K     |████████████████████████████████| 235kB 52.3MB/s \n",
            "\u001b[?25hRequirement already satisfied: typing; python_version < \"3.7\" in /usr/local/lib/python3.6/dist-packages (from aiodns->twint) (3.6.6)\n",
            "Requirement already satisfied: urllib3>=1.21.1 in /usr/local/lib/python3.6/dist-packages (from elasticsearch->twint) (1.24.3)\n",
            "Requirement already satisfied: python-dateutil>=2.6.1 in /usr/local/lib/python3.6/dist-packages (from pandas->twint) (2.8.1)\n",
            "Requirement already satisfied: numpy>=1.13.3 in /usr/local/lib/python3.6/dist-packages (from pandas->twint) (1.18.4)\n",
            "Requirement already satisfied: pytz>=2017.2 in /usr/local/lib/python3.6/dist-packages (from pandas->twint) (2018.9)\n",
            "Requirement already satisfied: geographiclib<2,>=1.49 in /usr/local/lib/python3.6/dist-packages (from geopy->twint) (1.50)\n",
            "Requirement already satisfied: requests in /usr/local/lib/python3.6/dist-packages (from googletransx->twint) (2.23.0)\n",
            "Requirement already satisfied: idna>=2.0 in /usr/local/lib/python3.6/dist-packages (from yarl<2.0,>=1.0->aiohttp->twint) (2.9)\n",
            "Requirement already satisfied: cffi>=1.5.0 in /usr/local/lib/python3.6/dist-packages (from pycares>=3.0.0->aiodns->twint) (1.14.0)\n",
            "Requirement already satisfied: six>=1.5 in /usr/local/lib/python3.6/dist-packages (from python-dateutil>=2.6.1->pandas->twint) (1.12.0)\n",
            "Requirement already satisfied: certifi>=2017.4.17 in /usr/local/lib/python3.6/dist-packages (from requests->googletransx->twint) (2020.4.5.1)\n",
            "Requirement already satisfied: pycparser in /usr/local/lib/python3.6/dist-packages (from cffi>=1.5.0->pycares>=3.0.0->aiodns->twint) (2.20)\n",
            "Building wheels for collected packages: twint, fake-useragent, googletransx, idna-ssl\n",
            "  Building wheel for twint (setup.py) ... \u001b[?25l\u001b[?25hdone\n",
            "  Created wheel for twint: filename=twint-2.1.20-cp36-none-any.whl size=33921 sha256=818d98c1217c91e7bbef20779ef7994de350623f333fc91ebb5c49f5ab70c97d\n",
            "  Stored in directory: /root/.cache/pip/wheels/66/25/c7/855c1d896087ef84df6e6713b8adb073aff99af119450e1e4f\n",
            "  Building wheel for fake-useragent (setup.py) ... \u001b[?25l\u001b[?25hdone\n",
            "  Created wheel for fake-useragent: filename=fake_useragent-0.1.11-cp36-none-any.whl size=13484 sha256=f343c3185b0bdb6fe17c92bc129cb2cfb985e0ede271c8c6c494a1e62817eca4\n",
            "  Stored in directory: /root/.cache/pip/wheels/5e/63/09/d1dc15179f175357d3f5c00cbffbac37f9e8690d80545143ff\n",
            "  Building wheel for googletransx (setup.py) ... \u001b[?25l\u001b[?25hdone\n",
            "  Created wheel for googletransx: filename=googletransx-2.4.2-cp36-none-any.whl size=15969 sha256=b1a84ae7c45442863a6b74109b9aceb13ac3c8ce75c6149c1e07796310368914\n",
            "  Stored in directory: /root/.cache/pip/wheels/04/63/5f/75e7e94eb62517946116a783e4cd8970c4789c990bbc732616\n",
            "  Building wheel for idna-ssl (setup.py) ... \u001b[?25l\u001b[?25hdone\n",
            "  Created wheel for idna-ssl: filename=idna_ssl-1.1.0-cp36-none-any.whl size=3162 sha256=974834273f3f6976a2f01c516e59c2af0a333da95406c0fc4c652a17f9b54f66\n",
            "  Stored in directory: /root/.cache/pip/wheels/d3/00/b3/32d613e19e08a739751dd6bf998cfed277728f8b2127ad4eb7\n",
            "Successfully built twint fake-useragent googletransx idna-ssl\n",
            "Installing collected packages: multidict, yarl, idna-ssl, async-timeout, aiohttp, pycares, aiodns, cchardet, elasticsearch, aiohttp-socks, schedule, fake-useragent, googletransx, twint\n",
            "Successfully installed aiodns-2.0.0 aiohttp-3.6.2 aiohttp-socks-0.3.9 async-timeout-3.0.1 cchardet-2.1.6 elasticsearch-7.6.0 fake-useragent-0.1.11 googletransx-2.4.2 idna-ssl-1.1.0 multidict-4.7.5 pycares-3.1.1 schedule-0.6.0 twint-2.1.20 yarl-1.4.2\n"
          ],
          "name": "stdout"
        }
      ]
    },
    {
      "cell_type": "code",
      "metadata": {
        "id": "KOK_ICdMhS7S",
        "colab_type": "code",
        "outputId": "910b5e0e-7f6b-4087-8872-0445e3e0e72e",
        "colab": {
          "base_uri": "https://localhost:8080/",
          "height": 119
        }
      },
      "source": [
        "!git clone https://github.com/mordor-ai/M1MIASHS_projet_twitter.git"
      ],
      "execution_count": 3,
      "outputs": [
        {
          "output_type": "stream",
          "text": [
            "Cloning into 'M1MIASHS_projet_twitter'...\n",
            "remote: Enumerating objects: 99, done.\u001b[K\n",
            "remote: Counting objects:   1% (1/99)\u001b[K\rremote: Counting objects:   2% (2/99)\u001b[K\rremote: Counting objects:   3% (3/99)\u001b[K\rremote: Counting objects:   4% (4/99)\u001b[K\rremote: Counting objects:   5% (5/99)\u001b[K\rremote: Counting objects:   6% (6/99)\u001b[K\rremote: Counting objects:   7% (7/99)\u001b[K\rremote: Counting objects:   8% (8/99)\u001b[K\rremote: Counting objects:   9% (9/99)\u001b[K\rremote: Counting objects:  10% (10/99)\u001b[K\rremote: Counting objects:  11% (11/99)\u001b[K\rremote: Counting objects:  12% (12/99)\u001b[K\rremote: Counting objects:  13% (13/99)\u001b[K\rremote: Counting objects:  14% (14/99)\u001b[K\rremote: Counting objects:  15% (15/99)\u001b[K\rremote: Counting objects:  16% (16/99)\u001b[K\rremote: Counting objects:  17% (17/99)\u001b[K\rremote: Counting objects:  18% (18/99)\u001b[K\rremote: Counting objects:  19% (19/99)\u001b[K\rremote: Counting objects:  20% (20/99)\u001b[K\rremote: Counting objects:  21% (21/99)\u001b[K\rremote: Counting objects:  22% (22/99)\u001b[K\rremote: Counting objects:  23% (23/99)\u001b[K\rremote: Counting objects:  24% (24/99)\u001b[K\rremote: Counting objects:  25% (25/99)\u001b[K\rremote: Counting objects:  26% (26/99)\u001b[K\rremote: Counting objects:  27% (27/99)\u001b[K\rremote: Counting objects:  28% (28/99)\u001b[K\rremote: Counting objects:  29% (29/99)\u001b[K\rremote: Counting objects:  30% (30/99)\u001b[K\rremote: Counting objects:  31% (31/99)\u001b[K\rremote: Counting objects:  32% (32/99)\u001b[K\rremote: Counting objects:  33% (33/99)\u001b[K\rremote: Counting objects:  34% (34/99)\u001b[K\rremote: Counting objects:  35% (35/99)\u001b[K\rremote: Counting objects:  36% (36/99)\u001b[K\rremote: Counting objects:  37% (37/99)\u001b[K\rremote: Counting objects:  38% (38/99)\u001b[K\rremote: Counting objects:  39% (39/99)\u001b[K\rremote: Counting objects:  40% (40/99)\u001b[K\rremote: Counting objects:  41% (41/99)\u001b[K\rremote: Counting objects:  42% (42/99)\u001b[K\rremote: Counting objects:  43% (43/99)\u001b[K\rremote: Counting objects:  44% (44/99)\u001b[K\rremote: Counting objects:  45% (45/99)\u001b[K\rremote: Counting objects:  46% (46/99)\u001b[K\rremote: Counting objects:  47% (47/99)\u001b[K\rremote: Counting objects:  48% (48/99)\u001b[K\rremote: Counting objects:  49% (49/99)\u001b[K\rremote: Counting objects:  50% (50/99)\u001b[K\rremote: Counting objects:  51% (51/99)\u001b[K\rremote: Counting objects:  52% (52/99)\u001b[K\rremote: Counting objects:  53% (53/99)\u001b[K\rremote: Counting objects:  54% (54/99)\u001b[K\rremote: Counting objects:  55% (55/99)\u001b[K\rremote: Counting objects:  56% (56/99)\u001b[K\rremote: Counting objects:  57% (57/99)\u001b[K\rremote: Counting objects:  58% (58/99)\u001b[K\rremote: Counting objects:  59% (59/99)\u001b[K\rremote: Counting objects:  60% (60/99)\u001b[K\rremote: Counting objects:  61% (61/99)\u001b[K\rremote: Counting objects:  62% (62/99)\u001b[K\rremote: Counting objects:  63% (63/99)\u001b[K\rremote: Counting objects:  64% (64/99)\u001b[K\rremote: Counting objects:  65% (65/99)\u001b[K\rremote: Counting objects:  66% (66/99)\u001b[K\rremote: Counting objects:  67% (67/99)\u001b[K\rremote: Counting objects:  68% (68/99)\u001b[K\rremote: Counting objects:  69% (69/99)\u001b[K\rremote: Counting objects:  70% (70/99)\u001b[K\rremote: Counting objects:  71% (71/99)\u001b[K\rremote: Counting objects:  72% (72/99)\u001b[K\rremote: Counting objects:  73% (73/99)\u001b[K\rremote: Counting objects:  74% (74/99)\u001b[K\rremote: Counting objects:  75% (75/99)\u001b[K\rremote: Counting objects:  76% (76/99)\u001b[K\rremote: Counting objects:  77% (77/99)\u001b[K\rremote: Counting objects:  78% (78/99)\u001b[K\rremote: Counting objects:  79% (79/99)\u001b[K\rremote: Counting objects:  80% (80/99)\u001b[K\rremote: Counting objects:  81% (81/99)\u001b[K\rremote: Counting objects:  82% (82/99)\u001b[K\rremote: Counting objects:  83% (83/99)\u001b[K\rremote: Counting objects:  84% (84/99)\u001b[K\rremote: Counting objects:  85% (85/99)\u001b[K\rremote: Counting objects:  86% (86/99)\u001b[K\rremote: Counting objects:  87% (87/99)\u001b[K\rremote: Counting objects:  88% (88/99)\u001b[K\rremote: Counting objects:  89% (89/99)\u001b[K\rremote: Counting objects:  90% (90/99)\u001b[K\rremote: Counting objects:  91% (91/99)\u001b[K\rremote: Counting objects:  92% (92/99)\u001b[K\rremote: Counting objects:  93% (93/99)\u001b[K\rremote: Counting objects:  94% (94/99)\u001b[K\rremote: Counting objects:  95% (95/99)\u001b[K\rremote: Counting objects:  96% (96/99)\u001b[K\rremote: Counting objects:  97% (97/99)\u001b[K\rremote: Counting objects:  98% (98/99)\u001b[K\rremote: Counting objects: 100% (99/99)\u001b[K\rremote: Counting objects: 100% (99/99), done.\u001b[K\n",
            "remote: Compressing objects: 100% (75/75), done.\u001b[K\n",
            "remote: Total 99 (delta 46), reused 60 (delta 22), pack-reused 0\u001b[K\n",
            "Unpacking objects: 100% (99/99), done.\n"
          ],
          "name": "stdout"
        }
      ]
    },
    {
      "cell_type": "code",
      "metadata": {
        "id": "tp_vMGETGTaM",
        "colab_type": "code",
        "colab": {
          "base_uri": "https://localhost:8080/",
          "height": 122
        },
        "outputId": "a1aed52f-9b7a-4253-8d9a-9c7a46a40a32"
      },
      "source": [
        "from google.colab import drive\n",
        "drive.mount('/content/drive')"
      ],
      "execution_count": 4,
      "outputs": [
        {
          "output_type": "stream",
          "text": [
            "Go to this URL in a browser: https://accounts.google.com/o/oauth2/auth?client_id=947318989803-6bn6qk8qdgf4n4g3pfee6491hc0brc4i.apps.googleusercontent.com&redirect_uri=urn%3aietf%3awg%3aoauth%3a2.0%3aoob&response_type=code&scope=email%20https%3a%2f%2fwww.googleapis.com%2fauth%2fdocs.test%20https%3a%2f%2fwww.googleapis.com%2fauth%2fdrive%20https%3a%2f%2fwww.googleapis.com%2fauth%2fdrive.photos.readonly%20https%3a%2f%2fwww.googleapis.com%2fauth%2fpeopleapi.readonly\n",
            "\n",
            "Enter your authorization code:\n",
            "··········\n",
            "Mounted at /content/drive\n"
          ],
          "name": "stdout"
        }
      ]
    },
    {
      "cell_type": "code",
      "metadata": {
        "id": "r8iePDrfhev7",
        "colab_type": "code",
        "outputId": "0dea96a3-a36b-4340-9fc3-0e5d10a7f4c3",
        "colab": {
          "base_uri": "https://localhost:8080/",
          "height": 34
        }
      },
      "source": [
        "cd /content/M1MIASHS_projet_twitter"
      ],
      "execution_count": 5,
      "outputs": [
        {
          "output_type": "stream",
          "text": [
            "/content/M1MIASHS_projet_twitter\n"
          ],
          "name": "stdout"
        }
      ]
    },
    {
      "cell_type": "code",
      "metadata": {
        "pycharm": {
          "name": "#%%\n"
        },
        "id": "p6I2cHurFcQU",
        "colab_type": "code",
        "colab": {}
      },
      "source": [
        "import numpy as np\n",
        "import pandas as pd\n",
        "import igraph\n",
        "import datetime\n",
        "from utils import utils as u"
      ],
      "execution_count": 0,
      "outputs": []
    },
    {
      "cell_type": "code",
      "metadata": {
        "id": "PHJXu6C3JI1i",
        "colab_type": "code",
        "outputId": "aeadf0ff-0143-454f-a230-4f66ee433d66",
        "colab": {
          "base_uri": "https://localhost:8080/",
          "height": 1000
        }
      },
      "source": [
        "e_filename_csv= \"/content/drive/My Drive/twitter/twitter_100M.csv\"\n",
        "n_filename_csv=\"/content/drive/My Drive/twitter/twitter-2010-ids.csv\"\n",
        "\n",
        "u.load_twitter_and_save_pickle_graph(e_filename_csv,n_filename_csv,100,True,\"/content/drive/My Drive/twitter/\")\n",
        "\n",
        "u.load_twitter_and_save_pickle_graph(e_filename_csv,n_filename_csv,1000,True,\"/content/drive/My Drive/twitter/\")\n",
        "u.load_twitter_and_save_pickle_graph(e_filename_csv,n_filename_csv,10000,True,\"/content/drive/My Drive/twitter/\")\n",
        "u.load_twitter_and_save_pickle_graph(e_filename_csv,n_filename_csv,100000,True,\"/content/drive/My Drive/twitter/\")\n",
        "u.load_twitter_and_save_pickle_graph(e_filename_csv,n_filename_csv,1000000,True,\"/content/drive/My Drive/twitter/\")\n",
        "u.load_twitter_and_save_pickle_graph(e_filename_csv,n_filename_csv,10000000,True,\"/content/drive/My Drive/twitter/\")\n",
        "u.load_twitter_and_save_pickle_graph(e_filename_csv,n_filename_csv,0,True,\"/content/drive/My Drive/twitter/\")\n",
        "\n",
        "print(\"====== End of program =======\")"
      ],
      "execution_count": 0,
      "outputs": [
        {
          "output_type": "stream",
          "text": [
            "Time required to process load edges: 0:00:00.825345s\n"
          ],
          "name": "stdout"
        },
        {
          "output_type": "stream",
          "text": [
            "/usr/local/lib/python3.6/dist-packages/numpy/lib/arraysetops.py:569: FutureWarning: elementwise comparison failed; returning scalar instead, but in the future will perform elementwise comparison\n",
            "  mask |= (ar1 == a)\n"
          ],
          "name": "stderr"
        },
        {
          "output_type": "stream",
          "text": [
            "Dataframe loaded with 100rows.\n",
            "Time required to process load nodes: 0:00:16.168903s\n",
            "Time required to process load graph: 0:00:00.003574s\n",
            "graph loaded\n",
            "loading nodes twiter ids\n",
            "Time required to process add twitter ids: 0:00:03.685941s\n",
            "now saving graph to  /content/drive/My Drive/twitter/twitter_100_picklez\n",
            "graph saved\n",
            "Time required to process save pickle file: 0:00:00.327197s\n",
            "Time required to process load edges: 0:00:00.028905s\n",
            "Dataframe loaded with 1000rows.\n",
            "Time required to process load nodes: 0:00:09.666970s\n",
            "Time required to process load graph: 0:00:00.003260s\n",
            "graph loaded\n",
            "loading nodes twiter ids\n",
            "Time required to process add twitter ids: 0:00:03.676730s\n",
            "now saving graph to  /content/drive/My Drive/twitter/twitter_1K_picklez\n",
            "graph saved\n",
            "Time required to process save pickle file: 0:00:00.221837s\n",
            "Time required to process load edges: 0:00:00.029653s\n",
            "Dataframe loaded with 10000rows.\n",
            "Time required to process load nodes: 0:00:09.548889s\n",
            "Time required to process load graph: 0:00:00.022093s\n",
            "graph loaded\n",
            "loading nodes twiter ids\n",
            "Time required to process add twitter ids: 0:00:03.743385s\n",
            "now saving graph to  /content/drive/My Drive/twitter/twitter_10K_picklez\n",
            "graph saved\n",
            "Time required to process save pickle file: 0:00:00.272051s\n",
            "Time required to process load edges: 0:00:00.037156s\n",
            "Dataframe loaded with 100000rows.\n",
            "Time required to process load nodes: 0:00:10.097995s\n",
            "Time required to process load graph: 0:00:00.312644s\n",
            "graph loaded\n",
            "loading nodes twiter ids\n",
            "Time required to process add twitter ids: 0:00:04.453121s\n",
            "now saving graph to  /content/drive/My Drive/twitter/twitter_100K_picklez\n",
            "graph saved\n",
            "Time required to process save pickle file: 0:00:01.176571s\n",
            "Time required to process load edges: 0:00:00.649765s\n",
            "Dataframe loaded with 1000000rows.\n",
            "Time required to process load nodes: 0:00:09.930198s\n",
            "Time required to process load graph: 0:00:02.387128s\n",
            "graph loaded\n",
            "loading nodes twiter ids\n",
            "Time required to process add twitter ids: 0:00:16.254161s\n",
            "now saving graph to  /content/drive/My Drive/twitter/twitter_1M_picklez\n",
            "graph saved\n",
            "Time required to process save pickle file: 0:00:11.694866s\n",
            "Time required to process load edges: 0:00:04.166371s\n",
            "Dataframe loaded with 10000000rows.\n",
            "Time required to process load nodes: 0:00:09.982444s\n",
            "Time required to process load graph: 0:00:26.252739s\n",
            "graph loaded\n",
            "loading nodes twiter ids\n",
            "Time required to process add twitter ids: 0:01:59.054177s\n",
            "now saving graph to  /content/drive/My Drive/twitter/twitter_10M_picklez\n",
            "graph saved\n",
            "Time required to process save pickle file: 0:01:38.152702s\n",
            "Time required to process load edges: 0:00:34.206803s\n",
            "Dataframe loaded with 99999999rows.\n",
            "Time required to process load nodes: 0:00:09.594164s\n"
          ],
          "name": "stdout"
        }
      ]
    },
    {
      "cell_type": "markdown",
      "metadata": {
        "id": "nfLYoF4SJMUD",
        "colab_type": "text"
      },
      "source": [
        ""
      ]
    }
  ]
}