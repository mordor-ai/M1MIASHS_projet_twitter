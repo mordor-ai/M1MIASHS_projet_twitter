{
  "nbformat": 4,
  "nbformat_minor": 0,
  "metadata": {
    "colab": {
      "name": "Untitled",
      "provenance": [],
      "include_colab_link": true
    },
    "kernelspec": {
      "name": "python3",
      "display_name": "Python 3"
    }
  },
  "cells": [
    {
      "cell_type": "markdown",
      "metadata": {
        "id": "view-in-github",
        "colab_type": "text"
      },
      "source": [
        "<a href=\"https://colab.research.google.com/github/mordor-ai/M1MIASHS_projet_twitter/blob/master/utils/load_100M_twitter_file_and_save.ipynb\" target=\"_parent\"><img src=\"https://colab.research.google.com/assets/colab-badge.svg\" alt=\"Open In Colab\"/></a>"
      ]
    },
    {
      "cell_type": "code",
      "metadata": {
        "id": "iPzsqLDKj41w",
        "colab_type": "code",
        "outputId": "addbccfe-d506-435b-f977-653630faa2b4",
        "colab": {
          "base_uri": "https://localhost:8080/",
          "height": 666
        }
      },
      "source": [
        "!apt-get install libcairo2-dev"
      ],
      "execution_count": 1,
      "outputs": [
        {
          "output_type": "stream",
          "text": [
            "Reading package lists... Done\n",
            "Building dependency tree       \n",
            "Reading state information... Done\n",
            "The following additional packages will be installed:\n",
            "  libcairo-script-interpreter2 libpixman-1-dev libxcb-shm0-dev\n",
            "Suggested packages:\n",
            "  libcairo2-doc\n",
            "The following NEW packages will be installed:\n",
            "  libcairo-script-interpreter2 libcairo2-dev libpixman-1-dev libxcb-shm0-dev\n",
            "0 upgraded, 4 newly installed, 0 to remove and 29 not upgraded.\n",
            "Need to get 930 kB of archives.\n",
            "After this operation, 3,986 kB of additional disk space will be used.\n",
            "Get:1 http://archive.ubuntu.com/ubuntu bionic-updates/main amd64 libcairo-script-interpreter2 amd64 1.15.10-2ubuntu0.1 [53.5 kB]\n",
            "Get:2 http://archive.ubuntu.com/ubuntu bionic/main amd64 libpixman-1-dev amd64 0.34.0-2 [244 kB]\n",
            "Get:3 http://archive.ubuntu.com/ubuntu bionic-updates/main amd64 libxcb-shm0-dev amd64 1.13-2~ubuntu18.04 [6,684 B]\n",
            "Get:4 http://archive.ubuntu.com/ubuntu bionic-updates/main amd64 libcairo2-dev amd64 1.15.10-2ubuntu0.1 [626 kB]\n",
            "Fetched 930 kB in 1s (1,092 kB/s)\n",
            "Selecting previously unselected package libcairo-script-interpreter2:amd64.\n",
            "(Reading database ... 144429 files and directories currently installed.)\n",
            "Preparing to unpack .../libcairo-script-interpreter2_1.15.10-2ubuntu0.1_amd64.deb ...\n",
            "Unpacking libcairo-script-interpreter2:amd64 (1.15.10-2ubuntu0.1) ...\n",
            "Selecting previously unselected package libpixman-1-dev:amd64.\n",
            "Preparing to unpack .../libpixman-1-dev_0.34.0-2_amd64.deb ...\n",
            "Unpacking libpixman-1-dev:amd64 (0.34.0-2) ...\n",
            "Selecting previously unselected package libxcb-shm0-dev:amd64.\n",
            "Preparing to unpack .../libxcb-shm0-dev_1.13-2~ubuntu18.04_amd64.deb ...\n",
            "Unpacking libxcb-shm0-dev:amd64 (1.13-2~ubuntu18.04) ...\n",
            "Selecting previously unselected package libcairo2-dev:amd64.\n",
            "Preparing to unpack .../libcairo2-dev_1.15.10-2ubuntu0.1_amd64.deb ...\n",
            "Unpacking libcairo2-dev:amd64 (1.15.10-2ubuntu0.1) ...\n",
            "Setting up libcairo-script-interpreter2:amd64 (1.15.10-2ubuntu0.1) ...\n",
            "Setting up libxcb-shm0-dev:amd64 (1.13-2~ubuntu18.04) ...\n",
            "Setting up libpixman-1-dev:amd64 (0.34.0-2) ...\n",
            "Setting up libcairo2-dev:amd64 (1.15.10-2ubuntu0.1) ...\n",
            "Processing triggers for libc-bin (2.27-3ubuntu1) ...\n",
            "/sbin/ldconfig.real: /usr/local/lib/python3.6/dist-packages/ideep4py/lib/libmkldnn.so.0 is not a symbolic link\n",
            "\n"
          ],
          "name": "stdout"
        }
      ]
    },
    {
      "cell_type": "code",
      "metadata": {
        "id": "DaupgPzyJMr2",
        "colab_type": "code",
        "outputId": "149e9da9-6b09-4c95-f039-2c811a42cf28",
        "colab": {
          "base_uri": "https://localhost:8080/",
          "height": 1000
        }
      },
      "source": [
        "!pip install python-igraph\n",
        "!pip install pycairo\n",
        "!pip install twint"
      ],
      "execution_count": 9,
      "outputs": [
        {
          "output_type": "stream",
          "text": [
            "Requirement already satisfied: python-igraph in /usr/local/lib/python3.6/dist-packages (0.8.2)\n",
            "Requirement already satisfied: texttable>=1.6.2 in /usr/local/lib/python3.6/dist-packages (from python-igraph) (1.6.2)\n",
            "Requirement already satisfied: pycairo in /usr/local/lib/python3.6/dist-packages (1.19.1)\n",
            "Collecting twint\n",
            "  Downloading https://files.pythonhosted.org/packages/69/e1/4daa62fbae8a34558015c227a8274bb2598e0fc6e330bdeb8484ed154ce7/twint-2.1.20.tar.gz\n",
            "Collecting aiohttp\n",
            "\u001b[?25l  Downloading https://files.pythonhosted.org/packages/7c/39/7eb5f98d24904e0f6d3edb505d4aa60e3ef83c0a58d6fe18244a51757247/aiohttp-3.6.2-cp36-cp36m-manylinux1_x86_64.whl (1.2MB)\n",
            "\u001b[K     |████████████████████████████████| 1.2MB 4.2MB/s \n",
            "\u001b[?25hCollecting aiodns\n",
            "  Downloading https://files.pythonhosted.org/packages/da/01/8f2d49b441573fd2478833bdba91cf0b853b4c750a1fbb9e98de1b94bb22/aiodns-2.0.0-py2.py3-none-any.whl\n",
            "Requirement already satisfied: beautifulsoup4 in /usr/local/lib/python3.6/dist-packages (from twint) (4.6.3)\n",
            "Collecting cchardet\n",
            "\u001b[?25l  Downloading https://files.pythonhosted.org/packages/1e/c5/7e1a0d7b4afd83d6f8de794fce82820ec4c5136c6d52e14000822681a842/cchardet-2.1.6-cp36-cp36m-manylinux2010_x86_64.whl (241kB)\n",
            "\u001b[K     |████████████████████████████████| 245kB 45.3MB/s \n",
            "\u001b[?25hCollecting elasticsearch\n",
            "\u001b[?25l  Downloading https://files.pythonhosted.org/packages/cc/cf/7973ac58090b960857da04add0b345415bf1e1741beddf4cbe136b8ad174/elasticsearch-7.6.0-py2.py3-none-any.whl (88kB)\n",
            "\u001b[K     |████████████████████████████████| 92kB 10.6MB/s \n",
            "\u001b[?25hRequirement already satisfied: pysocks in /usr/local/lib/python3.6/dist-packages (from twint) (1.7.1)\n",
            "Requirement already satisfied: pandas in /usr/local/lib/python3.6/dist-packages (from twint) (1.0.3)\n",
            "Collecting aiohttp_socks\n",
            "  Downloading https://files.pythonhosted.org/packages/06/28/67fcf0de9046f98052a30e0d8dc2529d8662b18f78b92eea42d7048a5e80/aiohttp_socks-0.3.9-py3-none-any.whl\n",
            "Collecting schedule\n",
            "  Downloading https://files.pythonhosted.org/packages/57/22/3a709462eb02412bd1145f6e53604f36bba191e3e4e397bea4a718fec38c/schedule-0.6.0-py2.py3-none-any.whl\n",
            "Requirement already satisfied: geopy in /usr/local/lib/python3.6/dist-packages (from twint) (1.17.0)\n",
            "Collecting fake-useragent\n",
            "  Downloading https://files.pythonhosted.org/packages/d1/79/af647635d6968e2deb57a208d309f6069d31cb138066d7e821e575112a80/fake-useragent-0.1.11.tar.gz\n",
            "Collecting googletransx\n",
            "  Downloading https://files.pythonhosted.org/packages/27/e1/77cd530afec7944d40c5bdd260bcc111be4012b045c82d4e3ffec90b2a42/googletransx-2.4.2.tar.gz\n",
            "Collecting async-timeout<4.0,>=3.0\n",
            "  Downloading https://files.pythonhosted.org/packages/e1/1e/5a4441be21b0726c4464f3f23c8b19628372f606755a9d2e46c187e65ec4/async_timeout-3.0.1-py3-none-any.whl\n",
            "Requirement already satisfied: typing-extensions>=3.6.5; python_version < \"3.7\" in /usr/local/lib/python3.6/dist-packages (from aiohttp->twint) (3.6.6)\n",
            "Requirement already satisfied: chardet<4.0,>=2.0 in /usr/local/lib/python3.6/dist-packages (from aiohttp->twint) (3.0.4)\n",
            "Requirement already satisfied: attrs>=17.3.0 in /usr/local/lib/python3.6/dist-packages (from aiohttp->twint) (19.3.0)\n",
            "Collecting idna-ssl>=1.0; python_version < \"3.7\"\n",
            "  Downloading https://files.pythonhosted.org/packages/46/03/07c4894aae38b0de52b52586b24bf189bb83e4ddabfe2e2c8f2419eec6f4/idna-ssl-1.1.0.tar.gz\n",
            "Collecting multidict<5.0,>=4.5\n",
            "\u001b[?25l  Downloading https://files.pythonhosted.org/packages/30/2e/3ab2f1fb72571f75013db323a3799d505d99f3bc203513604f1ffb9b7858/multidict-4.7.5-cp36-cp36m-manylinux1_x86_64.whl (148kB)\n",
            "\u001b[K     |████████████████████████████████| 153kB 45.2MB/s \n",
            "\u001b[?25hCollecting yarl<2.0,>=1.0\n",
            "\u001b[?25l  Downloading https://files.pythonhosted.org/packages/95/8f/0209fc5d975f839344c33c822ff2f7ef80f6b1e984673a5a68f960bfa583/yarl-1.4.2-cp36-cp36m-manylinux1_x86_64.whl (252kB)\n",
            "\u001b[K     |████████████████████████████████| 256kB 45.3MB/s \n",
            "\u001b[?25hCollecting pycares>=3.0.0\n",
            "\u001b[?25l  Downloading https://files.pythonhosted.org/packages/43/2d/7f4984a23f6e99cf6a8b20ddc59308efb209fe81e79c97af65e9b30eefae/pycares-3.1.1-cp36-cp36m-manylinux2010_x86_64.whl (228kB)\n",
            "\u001b[K     |████████████████████████████████| 235kB 50.6MB/s \n",
            "\u001b[?25hRequirement already satisfied: typing; python_version < \"3.7\" in /usr/local/lib/python3.6/dist-packages (from aiodns->twint) (3.6.6)\n",
            "Requirement already satisfied: urllib3>=1.21.1 in /usr/local/lib/python3.6/dist-packages (from elasticsearch->twint) (1.24.3)\n",
            "Requirement already satisfied: numpy>=1.13.3 in /usr/local/lib/python3.6/dist-packages (from pandas->twint) (1.18.4)\n",
            "Requirement already satisfied: pytz>=2017.2 in /usr/local/lib/python3.6/dist-packages (from pandas->twint) (2018.9)\n",
            "Requirement already satisfied: python-dateutil>=2.6.1 in /usr/local/lib/python3.6/dist-packages (from pandas->twint) (2.8.1)\n",
            "Requirement already satisfied: geographiclib<2,>=1.49 in /usr/local/lib/python3.6/dist-packages (from geopy->twint) (1.50)\n",
            "Requirement already satisfied: requests in /usr/local/lib/python3.6/dist-packages (from googletransx->twint) (2.23.0)\n",
            "Requirement already satisfied: idna>=2.0 in /usr/local/lib/python3.6/dist-packages (from idna-ssl>=1.0; python_version < \"3.7\"->aiohttp->twint) (2.9)\n",
            "Requirement already satisfied: cffi>=1.5.0 in /usr/local/lib/python3.6/dist-packages (from pycares>=3.0.0->aiodns->twint) (1.14.0)\n",
            "Requirement already satisfied: six>=1.5 in /usr/local/lib/python3.6/dist-packages (from python-dateutil>=2.6.1->pandas->twint) (1.12.0)\n",
            "Requirement already satisfied: certifi>=2017.4.17 in /usr/local/lib/python3.6/dist-packages (from requests->googletransx->twint) (2020.4.5.1)\n",
            "Requirement already satisfied: pycparser in /usr/local/lib/python3.6/dist-packages (from cffi>=1.5.0->pycares>=3.0.0->aiodns->twint) (2.20)\n",
            "Building wheels for collected packages: twint, fake-useragent, googletransx, idna-ssl\n",
            "  Building wheel for twint (setup.py) ... \u001b[?25l\u001b[?25hdone\n",
            "  Created wheel for twint: filename=twint-2.1.20-cp36-none-any.whl size=33921 sha256=ffa4f573774797e24d3c08741aee54ef21dae0062c9a835149a594621b184968\n",
            "  Stored in directory: /root/.cache/pip/wheels/66/25/c7/855c1d896087ef84df6e6713b8adb073aff99af119450e1e4f\n",
            "  Building wheel for fake-useragent (setup.py) ... \u001b[?25l\u001b[?25hdone\n",
            "  Created wheel for fake-useragent: filename=fake_useragent-0.1.11-cp36-none-any.whl size=13484 sha256=0c29065887c6507feb94954142e6b860071e12437cb67dcd2fe1daf312155e60\n",
            "  Stored in directory: /root/.cache/pip/wheels/5e/63/09/d1dc15179f175357d3f5c00cbffbac37f9e8690d80545143ff\n",
            "  Building wheel for googletransx (setup.py) ... \u001b[?25l\u001b[?25hdone\n",
            "  Created wheel for googletransx: filename=googletransx-2.4.2-cp36-none-any.whl size=15969 sha256=43561eb90b65419abe945885c25159c197659999522e5e9957132c804d08849b\n",
            "  Stored in directory: /root/.cache/pip/wheels/04/63/5f/75e7e94eb62517946116a783e4cd8970c4789c990bbc732616\n",
            "  Building wheel for idna-ssl (setup.py) ... \u001b[?25l\u001b[?25hdone\n",
            "  Created wheel for idna-ssl: filename=idna_ssl-1.1.0-cp36-none-any.whl size=3162 sha256=4190a76f290353e611b5e1c266cf6ab20a9d11d5eccf9f9386b8238307a96483\n",
            "  Stored in directory: /root/.cache/pip/wheels/d3/00/b3/32d613e19e08a739751dd6bf998cfed277728f8b2127ad4eb7\n",
            "Successfully built twint fake-useragent googletransx idna-ssl\n",
            "Installing collected packages: async-timeout, idna-ssl, multidict, yarl, aiohttp, pycares, aiodns, cchardet, elasticsearch, aiohttp-socks, schedule, fake-useragent, googletransx, twint\n",
            "Successfully installed aiodns-2.0.0 aiohttp-3.6.2 aiohttp-socks-0.3.9 async-timeout-3.0.1 cchardet-2.1.6 elasticsearch-7.6.0 fake-useragent-0.1.11 googletransx-2.4.2 idna-ssl-1.1.0 multidict-4.7.5 pycares-3.1.1 schedule-0.6.0 twint-2.1.20 yarl-1.4.2\n"
          ],
          "name": "stdout"
        }
      ]
    },
    {
      "cell_type": "code",
      "metadata": {
        "id": "KOK_ICdMhS7S",
        "colab_type": "code",
        "outputId": "c2781285-6d88-447f-b1ca-f70105df07b1",
        "colab": {
          "base_uri": "https://localhost:8080/",
          "height": 119
        }
      },
      "source": [
        "!git clone https://github.com/mordor-ai/M1MIASHS_projet_twitter.git"
      ],
      "execution_count": 3,
      "outputs": [
        {
          "output_type": "stream",
          "text": [
            "Cloning into 'M1MIASHS_projet_twitter'...\n",
            "remote: Enumerating objects: 91, done.\u001b[K\n",
            "remote: Counting objects:   1% (1/91)\u001b[K\rremote: Counting objects:   2% (2/91)\u001b[K\rremote: Counting objects:   3% (3/91)\u001b[K\rremote: Counting objects:   4% (4/91)\u001b[K\rremote: Counting objects:   5% (5/91)\u001b[K\rremote: Counting objects:   6% (6/91)\u001b[K\rremote: Counting objects:   7% (7/91)\u001b[K\rremote: Counting objects:   8% (8/91)\u001b[K\rremote: Counting objects:   9% (9/91)\u001b[K\rremote: Counting objects:  10% (10/91)\u001b[K\rremote: Counting objects:  12% (11/91)\u001b[K\rremote: Counting objects:  13% (12/91)\u001b[K\rremote: Counting objects:  14% (13/91)\u001b[K\rremote: Counting objects:  15% (14/91)\u001b[K\rremote: Counting objects:  16% (15/91)\u001b[K\rremote: Counting objects:  17% (16/91)\u001b[K\rremote: Counting objects:  18% (17/91)\u001b[K\rremote: Counting objects:  19% (18/91)\u001b[K\rremote: Counting objects:  20% (19/91)\u001b[K\rremote: Counting objects:  21% (20/91)\u001b[K\rremote: Counting objects:  23% (21/91)\u001b[K\rremote: Counting objects:  24% (22/91)\u001b[K\rremote: Counting objects:  25% (23/91)\u001b[K\rremote: Counting objects:  26% (24/91)\u001b[K\rremote: Counting objects:  27% (25/91)\u001b[K\rremote: Counting objects:  28% (26/91)\u001b[K\rremote: Counting objects:  29% (27/91)\u001b[K\rremote: Counting objects:  30% (28/91)\u001b[K\rremote: Counting objects:  31% (29/91)\u001b[K\rremote: Counting objects:  32% (30/91)\u001b[K\rremote: Counting objects:  34% (31/91)\u001b[K\rremote: Counting objects:  35% (32/91)\u001b[K\rremote: Counting objects:  36% (33/91)\u001b[K\rremote: Counting objects:  37% (34/91)\u001b[K\rremote: Counting objects:  38% (35/91)\u001b[K\rremote: Counting objects:  39% (36/91)\u001b[K\rremote: Counting objects:  40% (37/91)\u001b[K\rremote: Counting objects:  41% (38/91)\u001b[K\rremote: Counting objects:  42% (39/91)\u001b[K\rremote: Counting objects:  43% (40/91)\u001b[K\rremote: Counting objects:  45% (41/91)\u001b[K\rremote: Counting objects:  46% (42/91)\u001b[K\rremote: Counting objects:  47% (43/91)\u001b[K\rremote: Counting objects:  48% (44/91)\u001b[K\rremote: Counting objects:  49% (45/91)\u001b[K\rremote: Counting objects:  50% (46/91)\u001b[K\rremote: Counting objects:  51% (47/91)\u001b[K\rremote: Counting objects:  52% (48/91)\u001b[K\rremote: Counting objects:  53% (49/91)\u001b[K\rremote: Counting objects:  54% (50/91)\u001b[K\rremote: Counting objects:  56% (51/91)\u001b[K\rremote: Counting objects:  57% (52/91)\u001b[K\rremote: Counting objects:  58% (53/91)\u001b[K\rremote: Counting objects:  59% (54/91)\u001b[K\rremote: Counting objects:  60% (55/91)\u001b[K\rremote: Counting objects:  61% (56/91)\u001b[K\rremote: Counting objects:  62% (57/91)\u001b[K\rremote: Counting objects:  63% (58/91)\u001b[K\rremote: Counting objects:  64% (59/91)\u001b[K\rremote: Counting objects:  65% (60/91)\u001b[K\rremote: Counting objects:  67% (61/91)\u001b[K\rremote: Counting objects:  68% (62/91)\u001b[K\rremote: Counting objects:  69% (63/91)\u001b[K\rremote: Counting objects:  70% (64/91)\u001b[K\rremote: Counting objects:  71% (65/91)\u001b[K\rremote: Counting objects:  72% (66/91)\u001b[K\rremote: Counting objects:  73% (67/91)\u001b[K\rremote: Counting objects:  74% (68/91)\u001b[K\rremote: Counting objects:  75% (69/91)\u001b[K\rremote: Counting objects:  76% (70/91)\u001b[K\rremote: Counting objects:  78% (71/91)\u001b[K\rremote: Counting objects:  79% (72/91)\u001b[K\rremote: Counting objects:  80% (73/91)\u001b[K\rremote: Counting objects:  81% (74/91)\u001b[K\rremote: Counting objects:  82% (75/91)\u001b[K\rremote: Counting objects:  83% (76/91)\u001b[K\rremote: Counting objects:  84% (77/91)\u001b[K\rremote: Counting objects:  85% (78/91)\u001b[K\rremote: Counting objects:  86% (79/91)\u001b[K\rremote: Counting objects:  87% (80/91)\u001b[K\rremote: Counting objects:  89% (81/91)\u001b[K\rremote: Counting objects:  90% (82/91)\u001b[K\rremote: Counting objects:  91% (83/91)\u001b[K\rremote: Counting objects:  92% (84/91)\u001b[K\rremote: Counting objects:  93% (85/91)\u001b[K\rremote: Counting objects:  94% (86/91)\u001b[K\rremote: Counting objects:  95% (87/91)\u001b[K\rremote: Counting objects:  96% (88/91)\u001b[K\rremote: Counting objects:  97% (89/91)\u001b[K\rremote: Counting objects:  98% (90/91)\u001b[K\rremote: Counting objects: 100% (91/91)\u001b[K\rremote: Counting objects: 100% (91/91), done.\u001b[K\n",
            "remote: Compressing objects:   1% (1/70)\u001b[K\rremote: Compressing objects:   2% (2/70)\u001b[K\rremote: Compressing objects:   4% (3/70)\u001b[K\rremote: Compressing objects:   5% (4/70)\u001b[K\rremote: Compressing objects:   7% (5/70)\u001b[K\rremote: Compressing objects:   8% (6/70)\u001b[K\rremote: Compressing objects:  10% (7/70)\u001b[K\rremote: Compressing objects:  11% (8/70)\u001b[K\rremote: Compressing objects:  12% (9/70)\u001b[K\rremote: Compressing objects:  14% (10/70)\u001b[K\rremote: Compressing objects:  15% (11/70)\u001b[K\rremote: Compressing objects:  17% (12/70)\u001b[K\rremote: Compressing objects:  18% (13/70)\u001b[K\rremote: Compressing objects:  20% (14/70)\u001b[K\rremote: Compressing objects:  21% (15/70)\u001b[K\rremote: Compressing objects:  22% (16/70)\u001b[K\rremote: Compressing objects:  24% (17/70)\u001b[K\rremote: Compressing objects:  25% (18/70)\u001b[K\rremote: Compressing objects:  27% (19/70)\u001b[K\rremote: Compressing objects:  28% (20/70)\u001b[K\rremote: Compressing objects:  30% (21/70)\u001b[K\rremote: Compressing objects:  31% (22/70)\u001b[K\rremote: Compressing objects:  32% (23/70)\u001b[K\rremote: Compressing objects:  34% (24/70)\u001b[K\rremote: Compressing objects:  35% (25/70)\u001b[K\rremote: Compressing objects:  37% (26/70)\u001b[K\rremote: Compressing objects:  38% (27/70)\u001b[K\rremote: Compressing objects:  40% (28/70)\u001b[K\rremote: Compressing objects:  41% (29/70)\u001b[K\rremote: Compressing objects:  42% (30/70)\u001b[K\rremote: Compressing objects:  44% (31/70)\u001b[K\rremote: Compressing objects:  45% (32/70)\u001b[K\rremote: Compressing objects:  47% (33/70)\u001b[K\rremote: Compressing objects:  48% (34/70)\u001b[K\rremote: Compressing objects:  50% (35/70)\u001b[K\rremote: Compressing objects:  51% (36/70)\u001b[K\rremote: Compressing objects:  52% (37/70)\u001b[K\rremote: Compressing objects:  54% (38/70)\u001b[K\rremote: Compressing objects:  55% (39/70)\u001b[K\rremote: Compressing objects:  57% (40/70)\u001b[K\rremote: Compressing objects:  58% (41/70)\u001b[K\rremote: Compressing objects:  60% (42/70)\u001b[K\rremote: Compressing objects:  61% (43/70)\u001b[K\rremote: Compressing objects:  62% (44/70)\u001b[K\rremote: Compressing objects:  64% (45/70)\u001b[K\rremote: Compressing objects:  65% (46/70)\u001b[K\rremote: Compressing objects:  67% (47/70)\u001b[K\rremote: Compressing objects:  68% (48/70)\u001b[K\rremote: Compressing objects:  70% (49/70)\u001b[K\rremote: Compressing objects:  71% (50/70)\u001b[K\rremote: Compressing objects:  72% (51/70)\u001b[K\rremote: Compressing objects:  74% (52/70)\u001b[K\rremote: Compressing objects:  75% (53/70)\u001b[K\rremote: Compressing objects:  77% (54/70)\u001b[K\rremote: Compressing objects:  78% (55/70)\u001b[K\rremote: Compressing objects:  80% (56/70)\u001b[K\rremote: Compressing objects:  81% (57/70)\u001b[K\rremote: Compressing objects:  82% (58/70)\u001b[K\rremote: Compressing objects:  84% (59/70)\u001b[K\rremote: Compressing objects:  85% (60/70)\u001b[K\rremote: Compressing objects:  87% (61/70)\u001b[K\rremote: Compressing objects:  88% (62/70)\u001b[K\rremote: Compressing objects:  90% (63/70)\u001b[K\rremote: Compressing objects:  91% (64/70)\u001b[K\rremote: Compressing objects:  92% (65/70)\u001b[K\rremote: Compressing objects:  94% (66/70)\u001b[K\rremote: Compressing objects:  95% (67/70)\u001b[K\rremote: Compressing objects:  97% (68/70)\u001b[K\rremote: Compressing objects:  98% (69/70)\u001b[K\rremote: Compressing objects: 100% (70/70)\u001b[K\rremote: Compressing objects: 100% (70/70), done.\u001b[K\n",
            "Unpacking objects:   1% (1/91)   \rUnpacking objects:   2% (2/91)   \rUnpacking objects:   3% (3/91)   \rUnpacking objects:   4% (4/91)   \rUnpacking objects:   5% (5/91)   \rUnpacking objects:   6% (6/91)   \rUnpacking objects:   7% (7/91)   \rUnpacking objects:   8% (8/91)   \rUnpacking objects:   9% (9/91)   \rUnpacking objects:  10% (10/91)   \rUnpacking objects:  12% (11/91)   \rUnpacking objects:  13% (12/91)   \rUnpacking objects:  14% (13/91)   \rUnpacking objects:  15% (14/91)   \rUnpacking objects:  16% (15/91)   \rUnpacking objects:  17% (16/91)   \rUnpacking objects:  18% (17/91)   \rUnpacking objects:  19% (18/91)   \rUnpacking objects:  20% (19/91)   \rUnpacking objects:  21% (20/91)   \rUnpacking objects:  23% (21/91)   \rUnpacking objects:  24% (22/91)   \rUnpacking objects:  25% (23/91)   \rUnpacking objects:  26% (24/91)   \rUnpacking objects:  27% (25/91)   \rUnpacking objects:  28% (26/91)   \rUnpacking objects:  29% (27/91)   \rUnpacking objects:  30% (28/91)   \rUnpacking objects:  31% (29/91)   \rUnpacking objects:  32% (30/91)   \rUnpacking objects:  34% (31/91)   \rUnpacking objects:  35% (32/91)   \rUnpacking objects:  36% (33/91)   \rUnpacking objects:  37% (34/91)   \rUnpacking objects:  38% (35/91)   \rUnpacking objects:  39% (36/91)   \rUnpacking objects:  40% (37/91)   \rUnpacking objects:  41% (38/91)   \rremote: Total 91 (delta 40), reused 58 (delta 19), pack-reused 0\u001b[K\n",
            "Unpacking objects:  42% (39/91)   \rUnpacking objects:  43% (40/91)   \rUnpacking objects:  45% (41/91)   \rUnpacking objects:  46% (42/91)   \rUnpacking objects:  47% (43/91)   \rUnpacking objects:  48% (44/91)   \rUnpacking objects:  49% (45/91)   \rUnpacking objects:  50% (46/91)   \rUnpacking objects:  51% (47/91)   \rUnpacking objects:  52% (48/91)   \rUnpacking objects:  53% (49/91)   \rUnpacking objects:  54% (50/91)   \rUnpacking objects:  56% (51/91)   \rUnpacking objects:  57% (52/91)   \rUnpacking objects:  58% (53/91)   \rUnpacking objects:  59% (54/91)   \rUnpacking objects:  60% (55/91)   \rUnpacking objects:  61% (56/91)   \rUnpacking objects:  62% (57/91)   \rUnpacking objects:  63% (58/91)   \rUnpacking objects:  64% (59/91)   \rUnpacking objects:  65% (60/91)   \rUnpacking objects:  67% (61/91)   \rUnpacking objects:  68% (62/91)   \rUnpacking objects:  69% (63/91)   \rUnpacking objects:  70% (64/91)   \rUnpacking objects:  71% (65/91)   \rUnpacking objects:  72% (66/91)   \rUnpacking objects:  73% (67/91)   \rUnpacking objects:  74% (68/91)   \rUnpacking objects:  75% (69/91)   \rUnpacking objects:  76% (70/91)   \rUnpacking objects:  78% (71/91)   \rUnpacking objects:  79% (72/91)   \rUnpacking objects:  80% (73/91)   \rUnpacking objects:  81% (74/91)   \rUnpacking objects:  82% (75/91)   \rUnpacking objects:  83% (76/91)   \rUnpacking objects:  84% (77/91)   \rUnpacking objects:  85% (78/91)   \rUnpacking objects:  86% (79/91)   \rUnpacking objects:  87% (80/91)   \rUnpacking objects:  89% (81/91)   \rUnpacking objects:  90% (82/91)   \rUnpacking objects:  91% (83/91)   \rUnpacking objects:  92% (84/91)   \rUnpacking objects:  93% (85/91)   \rUnpacking objects:  94% (86/91)   \rUnpacking objects:  95% (87/91)   \rUnpacking objects:  96% (88/91)   \rUnpacking objects:  97% (89/91)   \rUnpacking objects:  98% (90/91)   \rUnpacking objects: 100% (91/91)   \rUnpacking objects: 100% (91/91), done.\n"
          ],
          "name": "stdout"
        }
      ]
    },
    {
      "cell_type": "code",
      "metadata": {
        "id": "tp_vMGETGTaM",
        "colab_type": "code",
        "colab": {
          "base_uri": "https://localhost:8080/",
          "height": 122
        },
        "outputId": "b220f153-7fd4-4604-b8cd-5bf575b84f2b"
      },
      "source": [
        "from google.colab import drive\n",
        "drive.mount('/content/drive')"
      ],
      "execution_count": 4,
      "outputs": [
        {
          "output_type": "stream",
          "text": [
            "Go to this URL in a browser: https://accounts.google.com/o/oauth2/auth?client_id=947318989803-6bn6qk8qdgf4n4g3pfee6491hc0brc4i.apps.googleusercontent.com&redirect_uri=urn%3aietf%3awg%3aoauth%3a2.0%3aoob&response_type=code&scope=email%20https%3a%2f%2fwww.googleapis.com%2fauth%2fdocs.test%20https%3a%2f%2fwww.googleapis.com%2fauth%2fdrive%20https%3a%2f%2fwww.googleapis.com%2fauth%2fdrive.photos.readonly%20https%3a%2f%2fwww.googleapis.com%2fauth%2fpeopleapi.readonly\n",
            "\n",
            "Enter your authorization code:\n",
            "··········\n",
            "Mounted at /content/drive\n"
          ],
          "name": "stdout"
        }
      ]
    },
    {
      "cell_type": "code",
      "metadata": {
        "id": "r8iePDrfhev7",
        "colab_type": "code",
        "outputId": "6b1329d9-6502-444d-bb24-470608383c96",
        "colab": {
          "base_uri": "https://localhost:8080/",
          "height": 34
        }
      },
      "source": [
        "cd /content/M1MIASHS_projet_twitter"
      ],
      "execution_count": 5,
      "outputs": [
        {
          "output_type": "stream",
          "text": [
            "/content/M1MIASHS_projet_twitter\n"
          ],
          "name": "stdout"
        }
      ]
    },
    {
      "cell_type": "code",
      "metadata": {
        "pycharm": {
          "name": "#%%\n"
        },
        "id": "p6I2cHurFcQU",
        "colab_type": "code",
        "colab": {}
      },
      "source": [
        "import numpy as np\n",
        "import pandas as pd\n",
        "import igraph\n",
        "import datetime\n",
        "from utils import utils as u"
      ],
      "execution_count": 0,
      "outputs": []
    },
    {
      "cell_type": "code",
      "metadata": {
        "id": "PHJXu6C3JI1i",
        "colab_type": "code",
        "outputId": "d989cc4a-c30a-4941-9282-3373612eaf0e",
        "colab": {
          "base_uri": "https://localhost:8080/",
          "height": 258
        }
      },
      "source": [
        "e_filename_csv= \"/content/drive/My Drive/twitter/twitter_100M.csv\"\n",
        "n_filename_csv=\"/content/drive/My Drive/twitter/twitter-2010-ids.csv\"\n",
        "\n",
        "u.load_twitter_and_save_pickle_graph(e_filename_csv,n_filename_csv,100,True,\"/content/drive/My Drive/twitter/\")\n",
        "\n",
        "u.load_twitter_and_save_pickle_graph(e_filename_csv,n_filename_csv,1000,True,\"/content/drive/My Drive/twitter/\")\n",
        "u.load_twitter_and_save_pickle_graph(e_filename_csv,n_filename_csv,10000,True,\"/content/drive/My Drive/twitter/\")\n",
        "u.load_twitter_and_save_pickle_graph(e_filename_csv,n_filename_csv,100000,True,\"/content/drive/My Drive/twitter/\")\n",
        "u.load_twitter_and_save_pickle_graph(e_filename_csv,n_filename_csv,1000000,True,\"/content/drive/My Drive/twitter/\")\n",
        "u.load_twitter_and_save_pickle_graph(e_filename_csv,n_filename_csv,10000000,True,\"/content/drive/My Drive/twitter/\")\n",
        "u.load_twitter_and_save_pickle_graph(e_filename_csv,n_filename_csv,0,True,\"/content/drive/My Drive/twitter/\")\n",
        "\n",
        "print(\"====== End of program =======\")"
      ],
      "execution_count": 11,
      "outputs": [
        {
          "output_type": "stream",
          "text": [
            "Time required to process load edges: 0:00:00.682600s\n"
          ],
          "name": "stdout"
        },
        {
          "output_type": "stream",
          "text": [
            "/usr/local/lib/python3.6/dist-packages/numpy/lib/arraysetops.py:569: FutureWarning: elementwise comparison failed; returning scalar instead, but in the future will perform elementwise comparison\n",
            "  mask |= (ar1 == a)\n"
          ],
          "name": "stderr"
        },
        {
          "output_type": "stream",
          "text": [
            "Dataframe loaded with 100rows.\n",
            "Time required to process load nodes: 0:00:17.742513s\n",
            "Time required to process load graph: 0:00:00.003632s\n",
            "graph loaded\n",
            "loading nodes twiter ids\n",
            "Time required to process add twitter ids: 0:00:03.807156s\n",
            "now saving graph to  /content/drive/My Drive/twitter/twitter_100_picklez\n",
            "graph saved\n",
            "Time required to process save pickle file: 0:00:00.007160s\n",
            "====== End of program =======\n"
          ],
          "name": "stdout"
        }
      ]
    },
    {
      "cell_type": "markdown",
      "metadata": {
        "id": "nfLYoF4SJMUD",
        "colab_type": "text"
      },
      "source": [
        ""
      ]
    }
  ]
}